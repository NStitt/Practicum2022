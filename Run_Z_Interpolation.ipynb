{
 "cells": [
  {
   "cell_type": "markdown",
   "source": [
    "# Starters"
   ],
   "metadata": {
    "collapsed": false,
    "pycharm": {
     "name": "#%% md\n"
    }
   }
  },
  {
   "cell_type": "markdown",
   "source": [
    "## Imports"
   ],
   "metadata": {
    "collapsed": false,
    "pycharm": {
     "name": "#%% md\n"
    }
   }
  },
  {
   "cell_type": "code",
   "execution_count": 56,
   "metadata": {
    "collapsed": true,
    "pycharm": {
     "name": "#%%\n"
    }
   },
   "outputs": [
    {
     "name": "stderr",
     "output_type": "stream",
     "text": [
      "2022-06-18 14:52:39.407995: I tensorflow/stream_executor/platform/default/dso_loader.cc:53] Successfully opened dynamic library libcudart.so.11.0\n"
     ]
    }
   ],
   "source": [
    "import imageio\n",
    "import matplotlib.pyplot as plt\n",
    "import numpy as np\n",
    "import os\n",
    "import pandas as pd\n",
    "import seaborn as sns\n",
    "import skimage.measure\n",
    "from PIL import Image\n",
    "import re\n",
    "import time\n",
    "from skimage.io import imsave, imread\n",
    "# from skimage.util import img_as_ubyte\n",
    "from scipy import ndimage\n",
    "import deepcell\n",
    "import deepcell.applications.cell_tracking\n",
    "from deepcell.applications import Mesmer\n",
    "from skimage import (\n",
    "    color, data, color, io, filters, measure, morphology, segmentation\n",
    ")\n",
    "import cv2\n",
    "from skimage import measure\n",
    "# import torch\n",
    "import glob\n",
    "import seaborn as sns\n",
    "from skimage.feature import peak_local_max\n",
    "from skimage.segmentation import watershed\n",
    "from skimage import feature\n",
    "import math\n",
    "import copy\n",
    "import glob\n",
    "import colorcet as cc\n",
    "from collections import Counter\n",
    "import ipynb\n",
    "# import plotly.io\n",
    "# import plotly.express as px"
   ]
  },
  {
   "cell_type": "markdown",
   "source": [
    "## Define Functions"
   ],
   "metadata": {
    "collapsed": false,
    "pycharm": {
     "name": "#%% md\n"
    }
   }
  },
  {
   "cell_type": "markdown",
   "source": [
    "### General Functions"
   ],
   "metadata": {
    "collapsed": false,
    "pycharm": {
     "name": "#%% md\n"
    }
   }
  },
  {
   "cell_type": "code",
   "execution_count": 136,
   "outputs": [],
   "source": [
    "# For sorting lists\n",
    "def sort_nicely(l):\n",
    "    \"\"\" Sort the given list in the way that humans expect.\n",
    "    \"\"\"\n",
    "    convert = lambda text: int(text) if text.isdigit() else text\n",
    "    alphanum_key = lambda key: [convert(c) for c in re.split('([0-9]+)', key)]\n",
    "    l.sort(key=alphanum_key)\n",
    "\n",
    "# Function for showing tifs quickly\n",
    "def showtif(file, zstack=0, channel=0, verbose=True):\n",
    "    if os.path.isfile(file):\n",
    "        skimg = io.imread(file, plugin='tifffile')\n",
    "    else:\n",
    "        skimg = file\n",
    "    if len(skimg.shape) == 2:\n",
    "        img = skimg\n",
    "    if len(skimg.shape) == 3:\n",
    "        img = skimg[zstack]\n",
    "    if len(skimg.shape) == 4:\n",
    "        img = skimg[zstack, channel]\n",
    "    if verbose == True:\n",
    "        if len(skimg.shape) == 2:\n",
    "            print(skimg.shape, \"\\n\", \"Single layer of size {} x {}\".format(skimg.shape[0], skimg.shape[1]))\n",
    "        else:\n",
    "            print(skimg.shape, \"\\n\", \"Showing Z-stack {} of {}\".format(zstack, skimg.shape[0]-1))\n",
    "    plt.axis('off')\n",
    "    a = plt.imshow(img, cmap='gray')\n",
    "    return a\n",
    "\n",
    "# Function for returning values from dictionary keys\n",
    "def get_key(dict, val):\n",
    "    if type(val) == float:\n",
    "        for key, value in dict.items():\n",
    "            if val == value:\n",
    "                return key\n",
    "        return \"key doesn't exist\"\n",
    "    if type(val) == list:\n",
    "        outkeys = []\n",
    "        for i in val:\n",
    "            for key, value in dict.items():\n",
    "                if i == value:\n",
    "                    outkeys.append(key)\n",
    "        return outkeys"
   ],
   "metadata": {
    "collapsed": false,
    "pycharm": {
     "name": "#%%\n"
    }
   }
  },
  {
   "cell_type": "markdown",
   "source": [
    "### My Functions"
   ],
   "metadata": {
    "collapsed": false,
    "pycharm": {
     "name": "#%% md\n"
    }
   }
  },
  {
   "cell_type": "code",
   "execution_count": 12,
   "outputs": [],
   "source": [
    "def interpZv4(labelfile, imagefile, zstart, zend, compare = True, savefigs = False):\n",
    "    # Bring in the labels\n",
    "    skimg = io.imread(labelfile, plugin='tifffile')\n",
    "    startlab = skimg[zstart]\n",
    "    endlab = skimg[zend]\n",
    "    # Bring in the cell image\n",
    "    imgin = io.imread(imagefile, plugin='tifffile')\n",
    "    startim = imgin[zstart]\n",
    "    endim = imgin[zend]\n",
    "\n",
    "    diff = zend-zstart\n",
    "    chunk = 1/diff\n",
    "\n",
    "    # Distance Maps\n",
    "    startdist = ndimage.distance_transform_cdt(startlab)\n",
    "    enddist = ndimage.distance_transform_cdt(endlab)\n",
    "\n",
    "    # Find the blob labels for the start and end images with watershed\n",
    "    coords = peak_local_max(startdist, footprint=np.ones((50,50)))\n",
    "    mask = np.zeros(startlab.shape, dtype=bool)\n",
    "    mask[tuple(coords.T)] = True\n",
    "    markers = measure.label(mask)\n",
    "    labeledstart = watershed(startlab, markers, mask = startlab)\n",
    "\n",
    "    coords = peak_local_max(enddist, footprint=np.ones((50,50)))\n",
    "    mask = np.zeros(endlab.shape, dtype=bool)\n",
    "    mask[tuple(coords.T)] = True\n",
    "    markers = measure.label(mask)\n",
    "    labeledend = watershed(endlab, markers, mask = endlab)\n",
    "\n",
    "    # Consensus Regions and Conflict Regions\n",
    "    andmap = np.logical_and(startlab, endlab) # intersection\n",
    "    ormap = np.logical_or(startlab, endlab) # union\n",
    "    conflictmap = np.logical_xor(ormap, andmap)\n",
    "    ordist = ndimage.distance_transform_cdt(ormap)\n",
    "\n",
    "    growing = cv2.subtract(endlab,startlab)==255\n",
    "    shrinking = cv2.subtract(startlab, endlab)==255\n",
    "\n",
    "    shrinkblobs = startdist*shrinking\n",
    "    growblobs = enddist*growing\n",
    "\n",
    "    outlabs = np.empty((diff-1,skimg.shape[1],skimg.shape[2]))\n",
    "    outims = np.empty((diff-1,skimg.shape[1],skimg.shape[2]))\n",
    "\n",
    "    newtifcounter = 0\n",
    "\n",
    "    for i in range(diff-1):\n",
    "        znew = i+1\n",
    "        zstartdist = (diff-znew)\n",
    "        zstartweight = (zstartdist)*chunk\n",
    "        zendweight = (diff-zstartdist)*chunk\n",
    "\n",
    "        shrinkmap = np.zeros(andmap.shape)\n",
    "        for i in range(1,max(np.unique(labeledstart))+1):\n",
    "            matrixspace = np.logical_and(shrinkblobs!=0,labeledstart==i)\n",
    "            sortedvals = sorted(np.unique(shrinkblobs*matrixspace)[1:])\n",
    "            if len(sortedvals) > 0:\n",
    "                shrinkthresh = (np.max(sortedvals))*zstartweight\n",
    "                positivepoints = np.logical_and(startdist>shrinkthresh, matrixspace)\n",
    "                shrinkmap[positivepoints] = True\n",
    "            else:\n",
    "                continue\n",
    "\n",
    "        growmap = np.zeros(andmap.shape)\n",
    "        for i in range(1,max(np.unique(labeledend))+1):\n",
    "            matrixspace =  np.logical_and(growblobs!=0,labeledend==i)\n",
    "            sortedvals = sorted(np.unique(growblobs*matrixspace)[1:])\n",
    "            if len(sortedvals) > 0:\n",
    "                growthresh = (np.max(sortedvals))*zendweight\n",
    "                positivepoints = np.logical_and(enddist>growthresh, matrixspace)\n",
    "                growmap[positivepoints] = True\n",
    "            else:\n",
    "                continue\n",
    "\n",
    "        combomap = np.logical_or(growmap,shrinkmap)\n",
    "        newz = np.logical_or(andmap,combomap)\n",
    "        outlabs[newtifcounter]=newz\n",
    "        ###\n",
    "        # Create an averaged image using the start and end weights\n",
    "        intim = cv2.addWeighted(startim,zstartweight,endim,zendweight,0)\n",
    "        # use the new z for the same level as a mask\n",
    "        mask = newz.copy()\n",
    "        maskedim = intim*mask\n",
    "        outims[newtifcounter]=maskedim\n",
    "        newtifcounter+=1\n",
    "\n",
    "    # if compare:\n",
    "    #         plt.figure(figsize=(10,15))\n",
    "    #         for i in range(diff-1):\n",
    "    #             zoffocus = i+1\n",
    "    #             actual = skimg[zstart+zoffocus].astype(np.uint8)\n",
    "    #             interpolated = outtifs[i].astype(np.uint8)\n",
    "    #             dif = np.logical_xor(actual,interpolated)\n",
    "    #\n",
    "    #             plt.subplot(outtifs.shape[0]+2, 3, 2)\n",
    "    #             plt.title(f'Z-Stack {zstart} Actual')\n",
    "    #             plt.axis('off')\n",
    "    #             plt.imshow(skimg[zstart],cmap='gray')\n",
    "    #\n",
    "    #             plt.subplot(outtifs.shape[0]+2, 3, ((zoffocus+2)*3)-5)\n",
    "    #             plt.title(f'Z-Stack {zstart+zoffocus} Actual')\n",
    "    #             plt.axis('off')\n",
    "    #             plt.imshow(skimg[zstart+zoffocus],cmap='gray')\n",
    "    #\n",
    "    #             plt.subplot(outtifs.shape[0]+2, 3, ((zoffocus+2)*3)-4)\n",
    "    #             plt.title(f'Z-Stack {zstart+zoffocus} Interpolated')\n",
    "    #             plt.axis('off')\n",
    "    #             plt.imshow(outtifs[i],cmap='gray')\n",
    "    #\n",
    "    #             plt.subplot(outtifs.shape[0]+2, 3, ((zoffocus+2)*3)-3)\n",
    "    #             plt.title(f'Z-Stack {zstart+zoffocus} Difference')\n",
    "    #             plt.axis('off')\n",
    "    #             plt.imshow(dif, cmap = 'viridis')\n",
    "    #\n",
    "    #             plt.subplot(outtifs.shape[0]+2, 3, ((zoffocus+2)*3)-1)\n",
    "    #             plt.title(f'Z-Stack {zend} Actual')\n",
    "    #             plt.axis('off')\n",
    "    #             plt.imshow(skimg[zend], cmap ='gray')\n",
    "    #\n",
    "    #         plt.tight_layout()\n",
    "    #         if savefigs:\n",
    "    #             plt.savefig(FIGDIR+\"Interpolation_Comparison.png\")\n",
    "\n",
    "    return outlabs, outims"
   ],
   "metadata": {
    "collapsed": false,
    "pycharm": {
     "name": "#%%\n"
    }
   }
  },
  {
   "cell_type": "markdown",
   "source": [
    "## Set Directories"
   ],
   "metadata": {
    "collapsed": false,
    "pycharm": {
     "name": "#%% md\n"
    }
   }
  },
  {
   "cell_type": "code",
   "execution_count": 3,
   "outputs": [],
   "source": [
    "SCRIPTDIR = os.path.realpath('./')\n",
    "SCRIPTDIR = '/scratch/ns4964/lionnet/scripts/'\n",
    "\n",
    "os.chdir(SCRIPTDIR)\n",
    "os.chdir('../inputs/train3D/')\n",
    "DATADIR = os.getcwd()\n",
    "\n",
    "os.chdir(SCRIPTDIR)\n",
    "os.chdir('../output/Interpolated/')\n",
    "OUTDIR = os.getcwd()\n",
    "\n",
    "os.chdir(SCRIPTDIR)"
   ],
   "metadata": {
    "collapsed": false,
    "pycharm": {
     "name": "#%%\n"
    }
   }
  },
  {
   "cell_type": "markdown",
   "source": [
    "## Bring in Data"
   ],
   "metadata": {
    "collapsed": false,
    "pycharm": {
     "name": "#%% md\n"
    }
   }
  },
  {
   "cell_type": "code",
   "execution_count": 13,
   "outputs": [
    {
     "data": {
      "text/plain": "               imgfolder                                            gappath  \\\n0    C1-FB323A_CSC_Rd1_1  /scratch/ns4964/lionnet/inputs/train3D/C1-FB32...   \n1    C1-FB323A_CSC_Rd1_2  /scratch/ns4964/lionnet/inputs/train3D/C1-FB32...   \n2    C1-FB323A_CSC_Rd1_3  /scratch/ns4964/lionnet/inputs/train3D/C1-FB32...   \n3    C1-FB323A_CSC_Rd1_4  /scratch/ns4964/lionnet/inputs/train3D/C1-FB32...   \n4    C1-FB323A_CSC_Rd1_5  /scratch/ns4964/lionnet/inputs/train3D/C1-FB32...   \n5    C1-FB323A_CSC_Rd1_6  /scratch/ns4964/lionnet/inputs/train3D/C1-FB32...   \n6    C1-FB323A_CSC_Rd1_7  /scratch/ns4964/lionnet/inputs/train3D/C1-FB32...   \n7    C1-FB323A_CSC_Rd1_8  /scratch/ns4964/lionnet/inputs/train3D/C1-FB32...   \n8    C1-FB323A_CSC_Rd1_9  /scratch/ns4964/lionnet/inputs/train3D/C1-FB32...   \n9   C1-FB323A_CSC_Rd1_10  /scratch/ns4964/lionnet/inputs/train3D/C1-FB32...   \n10  C1-FB323A_CSC_Rd1_11  /scratch/ns4964/lionnet/inputs/train3D/C1-FB32...   \n11  C1-FB323A_CSC_Rd1_12  /scratch/ns4964/lionnet/inputs/train3D/C1-FB32...   \n12  C1-FB323A_CSC_Rd1_13  /scratch/ns4964/lionnet/inputs/train3D/C1-FB32...   \n13  C1-FB323A_CSC_Rd1_14  /scratch/ns4964/lionnet/inputs/train3D/C1-FB32...   \n14  C1-FB323A_CSC_Rd1_15  /scratch/ns4964/lionnet/inputs/train3D/C1-FB32...   \n15  C1-FB323A_CSC_Rd1_16  /scratch/ns4964/lionnet/inputs/train3D/C1-FB32...   \n16  C1-FB323A_CSC_Rd1_17  /scratch/ns4964/lionnet/inputs/train3D/C1-FB32...   \n17  C1-FB323A_CSC_Rd1_18  /scratch/ns4964/lionnet/inputs/train3D/C1-FB32...   \n18  C1-FB323A_CSC_Rd1_19  /scratch/ns4964/lionnet/inputs/train3D/C1-FB32...   \n19  C1-FB323A_CSC_Rd1_20  /scratch/ns4964/lionnet/inputs/train3D/C1-FB32...   \n20  C1-FB323A_CSC_Rd1_21  /scratch/ns4964/lionnet/inputs/train3D/C1-FB32...   \n21  C1-FB323A_CSC_Rd1_22  /scratch/ns4964/lionnet/inputs/train3D/C1-FB32...   \n22  C1-FB323A_CSC_Rd1_23  /scratch/ns4964/lionnet/inputs/train3D/C1-FB32...   \n\n                                            imagepath  \\\n0   /scratch/ns4964/lionnet/inputs/train3D/C1-FB32...   \n1   /scratch/ns4964/lionnet/inputs/train3D/C1-FB32...   \n2   /scratch/ns4964/lionnet/inputs/train3D/C1-FB32...   \n3   /scratch/ns4964/lionnet/inputs/train3D/C1-FB32...   \n4   /scratch/ns4964/lionnet/inputs/train3D/C1-FB32...   \n5   /scratch/ns4964/lionnet/inputs/train3D/C1-FB32...   \n6   /scratch/ns4964/lionnet/inputs/train3D/C1-FB32...   \n7   /scratch/ns4964/lionnet/inputs/train3D/C1-FB32...   \n8   /scratch/ns4964/lionnet/inputs/train3D/C1-FB32...   \n9   /scratch/ns4964/lionnet/inputs/train3D/C1-FB32...   \n10  /scratch/ns4964/lionnet/inputs/train3D/C1-FB32...   \n11  /scratch/ns4964/lionnet/inputs/train3D/C1-FB32...   \n12  /scratch/ns4964/lionnet/inputs/train3D/C1-FB32...   \n13  /scratch/ns4964/lionnet/inputs/train3D/C1-FB32...   \n14  /scratch/ns4964/lionnet/inputs/train3D/C1-FB32...   \n15  /scratch/ns4964/lionnet/inputs/train3D/C1-FB32...   \n16  /scratch/ns4964/lionnet/inputs/train3D/C1-FB32...   \n17  /scratch/ns4964/lionnet/inputs/train3D/C1-FB32...   \n18  /scratch/ns4964/lionnet/inputs/train3D/C1-FB32...   \n19  /scratch/ns4964/lionnet/inputs/train3D/C1-FB32...   \n20  /scratch/ns4964/lionnet/inputs/train3D/C1-FB32...   \n21  /scratch/ns4964/lionnet/inputs/train3D/C1-FB32...   \n22  /scratch/ns4964/lionnet/inputs/train3D/C1-FB32...   \n\n                                            labelpath zlayers     x     y  \n0   /scratch/ns4964/lionnet/inputs/train3D/C1-FB32...       7  1024  1024  \n1   /scratch/ns4964/lionnet/inputs/train3D/C1-FB32...       7  1024  1024  \n2   /scratch/ns4964/lionnet/inputs/train3D/C1-FB32...       7  1024  1024  \n3   /scratch/ns4964/lionnet/inputs/train3D/C1-FB32...       7  1024  1024  \n4   /scratch/ns4964/lionnet/inputs/train3D/C1-FB32...       7  1024  1024  \n5   /scratch/ns4964/lionnet/inputs/train3D/C1-FB32...       7  1024  1024  \n6   /scratch/ns4964/lionnet/inputs/train3D/C1-FB32...       7  1024  1024  \n7   /scratch/ns4964/lionnet/inputs/train3D/C1-FB32...       7  1024  1024  \n8   /scratch/ns4964/lionnet/inputs/train3D/C1-FB32...       7  1024  1024  \n9   /scratch/ns4964/lionnet/inputs/train3D/C1-FB32...       7  1024  1024  \n10  /scratch/ns4964/lionnet/inputs/train3D/C1-FB32...       7  1024  1024  \n11  /scratch/ns4964/lionnet/inputs/train3D/C1-FB32...       7  1024  1024  \n12  /scratch/ns4964/lionnet/inputs/train3D/C1-FB32...       7  1024  1024  \n13  /scratch/ns4964/lionnet/inputs/train3D/C1-FB32...       7  1024  1024  \n14  /scratch/ns4964/lionnet/inputs/train3D/C1-FB32...       7  1024  1024  \n15  /scratch/ns4964/lionnet/inputs/train3D/C1-FB32...       7  1024  1024  \n16  /scratch/ns4964/lionnet/inputs/train3D/C1-FB32...       7  1024  1024  \n17  /scratch/ns4964/lionnet/inputs/train3D/C1-FB32...       7  1024  1024  \n18  /scratch/ns4964/lionnet/inputs/train3D/C1-FB32...       7  1024  1024  \n19  /scratch/ns4964/lionnet/inputs/train3D/C1-FB32...       7  1024  1024  \n20  /scratch/ns4964/lionnet/inputs/train3D/C1-FB32...       7  1024  1024  \n21  /scratch/ns4964/lionnet/inputs/train3D/C1-FB32...       7  1024  1024  \n22  /scratch/ns4964/lionnet/inputs/train3D/C1-FB32...       7  1024  1024  ",
      "text/html": "<div>\n<style scoped>\n    .dataframe tbody tr th:only-of-type {\n        vertical-align: middle;\n    }\n\n    .dataframe tbody tr th {\n        vertical-align: top;\n    }\n\n    .dataframe thead th {\n        text-align: right;\n    }\n</style>\n<table border=\"1\" class=\"dataframe\">\n  <thead>\n    <tr style=\"text-align: right;\">\n      <th></th>\n      <th>imgfolder</th>\n      <th>gappath</th>\n      <th>imagepath</th>\n      <th>labelpath</th>\n      <th>zlayers</th>\n      <th>x</th>\n      <th>y</th>\n    </tr>\n  </thead>\n  <tbody>\n    <tr>\n      <th>0</th>\n      <td>C1-FB323A_CSC_Rd1_1</td>\n      <td>/scratch/ns4964/lionnet/inputs/train3D/C1-FB32...</td>\n      <td>/scratch/ns4964/lionnet/inputs/train3D/C1-FB32...</td>\n      <td>/scratch/ns4964/lionnet/inputs/train3D/C1-FB32...</td>\n      <td>7</td>\n      <td>1024</td>\n      <td>1024</td>\n    </tr>\n    <tr>\n      <th>1</th>\n      <td>C1-FB323A_CSC_Rd1_2</td>\n      <td>/scratch/ns4964/lionnet/inputs/train3D/C1-FB32...</td>\n      <td>/scratch/ns4964/lionnet/inputs/train3D/C1-FB32...</td>\n      <td>/scratch/ns4964/lionnet/inputs/train3D/C1-FB32...</td>\n      <td>7</td>\n      <td>1024</td>\n      <td>1024</td>\n    </tr>\n    <tr>\n      <th>2</th>\n      <td>C1-FB323A_CSC_Rd1_3</td>\n      <td>/scratch/ns4964/lionnet/inputs/train3D/C1-FB32...</td>\n      <td>/scratch/ns4964/lionnet/inputs/train3D/C1-FB32...</td>\n      <td>/scratch/ns4964/lionnet/inputs/train3D/C1-FB32...</td>\n      <td>7</td>\n      <td>1024</td>\n      <td>1024</td>\n    </tr>\n    <tr>\n      <th>3</th>\n      <td>C1-FB323A_CSC_Rd1_4</td>\n      <td>/scratch/ns4964/lionnet/inputs/train3D/C1-FB32...</td>\n      <td>/scratch/ns4964/lionnet/inputs/train3D/C1-FB32...</td>\n      <td>/scratch/ns4964/lionnet/inputs/train3D/C1-FB32...</td>\n      <td>7</td>\n      <td>1024</td>\n      <td>1024</td>\n    </tr>\n    <tr>\n      <th>4</th>\n      <td>C1-FB323A_CSC_Rd1_5</td>\n      <td>/scratch/ns4964/lionnet/inputs/train3D/C1-FB32...</td>\n      <td>/scratch/ns4964/lionnet/inputs/train3D/C1-FB32...</td>\n      <td>/scratch/ns4964/lionnet/inputs/train3D/C1-FB32...</td>\n      <td>7</td>\n      <td>1024</td>\n      <td>1024</td>\n    </tr>\n    <tr>\n      <th>5</th>\n      <td>C1-FB323A_CSC_Rd1_6</td>\n      <td>/scratch/ns4964/lionnet/inputs/train3D/C1-FB32...</td>\n      <td>/scratch/ns4964/lionnet/inputs/train3D/C1-FB32...</td>\n      <td>/scratch/ns4964/lionnet/inputs/train3D/C1-FB32...</td>\n      <td>7</td>\n      <td>1024</td>\n      <td>1024</td>\n    </tr>\n    <tr>\n      <th>6</th>\n      <td>C1-FB323A_CSC_Rd1_7</td>\n      <td>/scratch/ns4964/lionnet/inputs/train3D/C1-FB32...</td>\n      <td>/scratch/ns4964/lionnet/inputs/train3D/C1-FB32...</td>\n      <td>/scratch/ns4964/lionnet/inputs/train3D/C1-FB32...</td>\n      <td>7</td>\n      <td>1024</td>\n      <td>1024</td>\n    </tr>\n    <tr>\n      <th>7</th>\n      <td>C1-FB323A_CSC_Rd1_8</td>\n      <td>/scratch/ns4964/lionnet/inputs/train3D/C1-FB32...</td>\n      <td>/scratch/ns4964/lionnet/inputs/train3D/C1-FB32...</td>\n      <td>/scratch/ns4964/lionnet/inputs/train3D/C1-FB32...</td>\n      <td>7</td>\n      <td>1024</td>\n      <td>1024</td>\n    </tr>\n    <tr>\n      <th>8</th>\n      <td>C1-FB323A_CSC_Rd1_9</td>\n      <td>/scratch/ns4964/lionnet/inputs/train3D/C1-FB32...</td>\n      <td>/scratch/ns4964/lionnet/inputs/train3D/C1-FB32...</td>\n      <td>/scratch/ns4964/lionnet/inputs/train3D/C1-FB32...</td>\n      <td>7</td>\n      <td>1024</td>\n      <td>1024</td>\n    </tr>\n    <tr>\n      <th>9</th>\n      <td>C1-FB323A_CSC_Rd1_10</td>\n      <td>/scratch/ns4964/lionnet/inputs/train3D/C1-FB32...</td>\n      <td>/scratch/ns4964/lionnet/inputs/train3D/C1-FB32...</td>\n      <td>/scratch/ns4964/lionnet/inputs/train3D/C1-FB32...</td>\n      <td>7</td>\n      <td>1024</td>\n      <td>1024</td>\n    </tr>\n    <tr>\n      <th>10</th>\n      <td>C1-FB323A_CSC_Rd1_11</td>\n      <td>/scratch/ns4964/lionnet/inputs/train3D/C1-FB32...</td>\n      <td>/scratch/ns4964/lionnet/inputs/train3D/C1-FB32...</td>\n      <td>/scratch/ns4964/lionnet/inputs/train3D/C1-FB32...</td>\n      <td>7</td>\n      <td>1024</td>\n      <td>1024</td>\n    </tr>\n    <tr>\n      <th>11</th>\n      <td>C1-FB323A_CSC_Rd1_12</td>\n      <td>/scratch/ns4964/lionnet/inputs/train3D/C1-FB32...</td>\n      <td>/scratch/ns4964/lionnet/inputs/train3D/C1-FB32...</td>\n      <td>/scratch/ns4964/lionnet/inputs/train3D/C1-FB32...</td>\n      <td>7</td>\n      <td>1024</td>\n      <td>1024</td>\n    </tr>\n    <tr>\n      <th>12</th>\n      <td>C1-FB323A_CSC_Rd1_13</td>\n      <td>/scratch/ns4964/lionnet/inputs/train3D/C1-FB32...</td>\n      <td>/scratch/ns4964/lionnet/inputs/train3D/C1-FB32...</td>\n      <td>/scratch/ns4964/lionnet/inputs/train3D/C1-FB32...</td>\n      <td>7</td>\n      <td>1024</td>\n      <td>1024</td>\n    </tr>\n    <tr>\n      <th>13</th>\n      <td>C1-FB323A_CSC_Rd1_14</td>\n      <td>/scratch/ns4964/lionnet/inputs/train3D/C1-FB32...</td>\n      <td>/scratch/ns4964/lionnet/inputs/train3D/C1-FB32...</td>\n      <td>/scratch/ns4964/lionnet/inputs/train3D/C1-FB32...</td>\n      <td>7</td>\n      <td>1024</td>\n      <td>1024</td>\n    </tr>\n    <tr>\n      <th>14</th>\n      <td>C1-FB323A_CSC_Rd1_15</td>\n      <td>/scratch/ns4964/lionnet/inputs/train3D/C1-FB32...</td>\n      <td>/scratch/ns4964/lionnet/inputs/train3D/C1-FB32...</td>\n      <td>/scratch/ns4964/lionnet/inputs/train3D/C1-FB32...</td>\n      <td>7</td>\n      <td>1024</td>\n      <td>1024</td>\n    </tr>\n    <tr>\n      <th>15</th>\n      <td>C1-FB323A_CSC_Rd1_16</td>\n      <td>/scratch/ns4964/lionnet/inputs/train3D/C1-FB32...</td>\n      <td>/scratch/ns4964/lionnet/inputs/train3D/C1-FB32...</td>\n      <td>/scratch/ns4964/lionnet/inputs/train3D/C1-FB32...</td>\n      <td>7</td>\n      <td>1024</td>\n      <td>1024</td>\n    </tr>\n    <tr>\n      <th>16</th>\n      <td>C1-FB323A_CSC_Rd1_17</td>\n      <td>/scratch/ns4964/lionnet/inputs/train3D/C1-FB32...</td>\n      <td>/scratch/ns4964/lionnet/inputs/train3D/C1-FB32...</td>\n      <td>/scratch/ns4964/lionnet/inputs/train3D/C1-FB32...</td>\n      <td>7</td>\n      <td>1024</td>\n      <td>1024</td>\n    </tr>\n    <tr>\n      <th>17</th>\n      <td>C1-FB323A_CSC_Rd1_18</td>\n      <td>/scratch/ns4964/lionnet/inputs/train3D/C1-FB32...</td>\n      <td>/scratch/ns4964/lionnet/inputs/train3D/C1-FB32...</td>\n      <td>/scratch/ns4964/lionnet/inputs/train3D/C1-FB32...</td>\n      <td>7</td>\n      <td>1024</td>\n      <td>1024</td>\n    </tr>\n    <tr>\n      <th>18</th>\n      <td>C1-FB323A_CSC_Rd1_19</td>\n      <td>/scratch/ns4964/lionnet/inputs/train3D/C1-FB32...</td>\n      <td>/scratch/ns4964/lionnet/inputs/train3D/C1-FB32...</td>\n      <td>/scratch/ns4964/lionnet/inputs/train3D/C1-FB32...</td>\n      <td>7</td>\n      <td>1024</td>\n      <td>1024</td>\n    </tr>\n    <tr>\n      <th>19</th>\n      <td>C1-FB323A_CSC_Rd1_20</td>\n      <td>/scratch/ns4964/lionnet/inputs/train3D/C1-FB32...</td>\n      <td>/scratch/ns4964/lionnet/inputs/train3D/C1-FB32...</td>\n      <td>/scratch/ns4964/lionnet/inputs/train3D/C1-FB32...</td>\n      <td>7</td>\n      <td>1024</td>\n      <td>1024</td>\n    </tr>\n    <tr>\n      <th>20</th>\n      <td>C1-FB323A_CSC_Rd1_21</td>\n      <td>/scratch/ns4964/lionnet/inputs/train3D/C1-FB32...</td>\n      <td>/scratch/ns4964/lionnet/inputs/train3D/C1-FB32...</td>\n      <td>/scratch/ns4964/lionnet/inputs/train3D/C1-FB32...</td>\n      <td>7</td>\n      <td>1024</td>\n      <td>1024</td>\n    </tr>\n    <tr>\n      <th>21</th>\n      <td>C1-FB323A_CSC_Rd1_22</td>\n      <td>/scratch/ns4964/lionnet/inputs/train3D/C1-FB32...</td>\n      <td>/scratch/ns4964/lionnet/inputs/train3D/C1-FB32...</td>\n      <td>/scratch/ns4964/lionnet/inputs/train3D/C1-FB32...</td>\n      <td>7</td>\n      <td>1024</td>\n      <td>1024</td>\n    </tr>\n    <tr>\n      <th>22</th>\n      <td>C1-FB323A_CSC_Rd1_23</td>\n      <td>/scratch/ns4964/lionnet/inputs/train3D/C1-FB32...</td>\n      <td>/scratch/ns4964/lionnet/inputs/train3D/C1-FB32...</td>\n      <td>/scratch/ns4964/lionnet/inputs/train3D/C1-FB32...</td>\n      <td>7</td>\n      <td>1024</td>\n      <td>1024</td>\n    </tr>\n  </tbody>\n</table>\n</div>"
     },
     "execution_count": 13,
     "metadata": {},
     "output_type": "execute_result"
    }
   ],
   "source": [
    "# Only pull folders from the data directory\n",
    "os.chdir(DATADIR)\n",
    "imgfolders = []\n",
    "for file in os.listdir():\n",
    "    if os.path.isdir(file):\n",
    "        imgfolders.append(file)\n",
    "\n",
    "sort_nicely(imgfolders)\n",
    "\n",
    "# Create reference df for all images\n",
    "imgdf = pd.DataFrame(imgfolders, columns=['imgfolder'])\n",
    "imgdf['gappath'] = ''\n",
    "imgdf['imagepath'] = ''\n",
    "imgdf['labelpath'] = ''\n",
    "imgdf['zlayers'] = ''\n",
    "imgdf['x'] = ''\n",
    "imgdf['y'] = ''\n",
    "\n",
    "for index, row in imgdf.iterrows():\n",
    "    indir = os.path.join(DATADIR, imgdf.iloc[index]['imgfolder'])\n",
    "    imgdf.at[index, 'gappath'] = os.path.join(indir, 'gap.tif')\n",
    "    imgdf.at[index, 'imagepath'] = os.path.join(indir, 'image.tif')\n",
    "    imgdf.at[index, 'labelpath'] = os.path.join(indir, 'label.tif')\n",
    "    im = imgdf['imagepath'][0]\n",
    "    skimg = io.imread(im, plugin='tifffile')\n",
    "    imgdf.at[index, 'zlayers'] = skimg.shape[0]\n",
    "    imgdf.at[index, 'x'] = skimg.shape[1]\n",
    "    imgdf.at[index, 'y'] = skimg.shape[2]\n",
    "imgdf"
   ],
   "metadata": {
    "collapsed": false,
    "pycharm": {
     "name": "#%%\n"
    }
   }
  },
  {
   "cell_type": "code",
   "execution_count": 17,
   "outputs": [
    {
     "data": {
      "text/plain": "             imgfolder                                            gappath  \\\n0  C1-FB323A_CSC_Rd1_1  /scratch/ns4964/lionnet/inputs/train3D/C1-FB32...   \n1  C1-FB323A_CSC_Rd1_2  /scratch/ns4964/lionnet/inputs/train3D/C1-FB32...   \n2  C1-FB323A_CSC_Rd1_3  /scratch/ns4964/lionnet/inputs/train3D/C1-FB32...   \n\n                                           imagepath  \\\n0  /scratch/ns4964/lionnet/inputs/train3D/C1-FB32...   \n1  /scratch/ns4964/lionnet/inputs/train3D/C1-FB32...   \n2  /scratch/ns4964/lionnet/inputs/train3D/C1-FB32...   \n\n                                           labelpath zlayers     x     y  \n0  /scratch/ns4964/lionnet/inputs/train3D/C1-FB32...       7  1024  1024  \n1  /scratch/ns4964/lionnet/inputs/train3D/C1-FB32...       7  1024  1024  \n2  /scratch/ns4964/lionnet/inputs/train3D/C1-FB32...       7  1024  1024  ",
      "text/html": "<div>\n<style scoped>\n    .dataframe tbody tr th:only-of-type {\n        vertical-align: middle;\n    }\n\n    .dataframe tbody tr th {\n        vertical-align: top;\n    }\n\n    .dataframe thead th {\n        text-align: right;\n    }\n</style>\n<table border=\"1\" class=\"dataframe\">\n  <thead>\n    <tr style=\"text-align: right;\">\n      <th></th>\n      <th>imgfolder</th>\n      <th>gappath</th>\n      <th>imagepath</th>\n      <th>labelpath</th>\n      <th>zlayers</th>\n      <th>x</th>\n      <th>y</th>\n    </tr>\n  </thead>\n  <tbody>\n    <tr>\n      <th>0</th>\n      <td>C1-FB323A_CSC_Rd1_1</td>\n      <td>/scratch/ns4964/lionnet/inputs/train3D/C1-FB32...</td>\n      <td>/scratch/ns4964/lionnet/inputs/train3D/C1-FB32...</td>\n      <td>/scratch/ns4964/lionnet/inputs/train3D/C1-FB32...</td>\n      <td>7</td>\n      <td>1024</td>\n      <td>1024</td>\n    </tr>\n    <tr>\n      <th>1</th>\n      <td>C1-FB323A_CSC_Rd1_2</td>\n      <td>/scratch/ns4964/lionnet/inputs/train3D/C1-FB32...</td>\n      <td>/scratch/ns4964/lionnet/inputs/train3D/C1-FB32...</td>\n      <td>/scratch/ns4964/lionnet/inputs/train3D/C1-FB32...</td>\n      <td>7</td>\n      <td>1024</td>\n      <td>1024</td>\n    </tr>\n    <tr>\n      <th>2</th>\n      <td>C1-FB323A_CSC_Rd1_3</td>\n      <td>/scratch/ns4964/lionnet/inputs/train3D/C1-FB32...</td>\n      <td>/scratch/ns4964/lionnet/inputs/train3D/C1-FB32...</td>\n      <td>/scratch/ns4964/lionnet/inputs/train3D/C1-FB32...</td>\n      <td>7</td>\n      <td>1024</td>\n      <td>1024</td>\n    </tr>\n  </tbody>\n</table>\n</div>"
     },
     "execution_count": 17,
     "metadata": {},
     "output_type": "execute_result"
    }
   ],
   "source": [
    "# Small DF to test loops\n",
    "testdf = imgdf.loc[0:2].copy()\n",
    "testdf = testdf.reset_index(drop=True)\n",
    "testdf"
   ],
   "metadata": {
    "collapsed": false,
    "pycharm": {
     "name": "#%%\n"
    }
   }
  },
  {
   "cell_type": "code",
   "execution_count": 24,
   "outputs": [
    {
     "data": {
      "text/plain": "'C1-FB323A_CSC_Rd1_3'"
     },
     "execution_count": 24,
     "metadata": {},
     "output_type": "execute_result"
    }
   ],
   "source": [
    "# Single image df\n",
    "singledf = imgdf.loc[[2]].copy()\n",
    "singledf = singledf.reset_index(drop=True)\n",
    "singledf.loc[0]['imgfolder']"
   ],
   "metadata": {
    "collapsed": false,
    "pycharm": {
     "name": "#%%\n"
    }
   }
  },
  {
   "cell_type": "markdown",
   "source": [
    "# Laying Down the Idea"
   ],
   "metadata": {
    "collapsed": false,
    "pycharm": {
     "name": "#%% md\n"
    }
   }
  },
  {
   "cell_type": "markdown",
   "source": [
    "## Pieces"
   ],
   "metadata": {
    "collapsed": false,
    "pycharm": {
     "name": "#%% md\n"
    }
   }
  },
  {
   "cell_type": "markdown",
   "source": [
    "### Modified z-interpolation function"
   ],
   "metadata": {
    "collapsed": false,
    "pycharm": {
     "name": "#%% md\n"
    }
   }
  },
  {
   "cell_type": "code",
   "execution_count": 181,
   "outputs": [],
   "source": [
    "# Returns a stack determined by the distance between boundaries.\n",
    "def interpZv5(mask_stack, image_stack, zstart, zend, compare = False, savefigs = False):\n",
    "    # Bring in the labels\n",
    "    skimg = mask_stack\n",
    "    startlab = skimg[zstart]\n",
    "    endlab = skimg[zend]\n",
    "    # Bring in the cell image\n",
    "    imgin = image_stack\n",
    "    startim = imgin[zstart]\n",
    "    endim = imgin[zend]\n",
    "\n",
    "    diff = zend-zstart\n",
    "    chunk = 1/diff\n",
    "\n",
    "    # Distance Maps\n",
    "    startdist = ndimage.distance_transform_cdt(startlab)\n",
    "    enddist = ndimage.distance_transform_cdt(endlab)\n",
    "\n",
    "    # Find the blob labels for the start and end images with watershed\n",
    "    coords = peak_local_max(startdist, footprint=np.ones((50,50)))\n",
    "    mask = np.zeros(startlab.shape, dtype=bool)\n",
    "    mask[tuple(coords.T)] = True\n",
    "    markers = measure.label(mask)\n",
    "    labeledstart = watershed(startlab, markers, mask = startlab)\n",
    "\n",
    "    coords = peak_local_max(enddist, footprint=np.ones((50,50)))\n",
    "    mask = np.zeros(endlab.shape, dtype=bool)\n",
    "    mask[tuple(coords.T)] = True\n",
    "    markers = measure.label(mask)\n",
    "    labeledend = watershed(endlab, markers, mask = endlab)\n",
    "\n",
    "    # Consensus Regions and Conflict Regions\n",
    "    andmap = np.logical_and(startlab, endlab) # intersection\n",
    "    ormap = np.logical_or(startlab, endlab) # union\n",
    "    conflictmap = np.logical_xor(ormap, andmap)\n",
    "    ordist = ndimage.distance_transform_cdt(ormap)\n",
    "\n",
    "    growing = cv2.subtract(endlab,startlab)==255\n",
    "    shrinking = cv2.subtract(startlab, endlab)==255\n",
    "\n",
    "    shrinkblobs = startdist*shrinking\n",
    "    growblobs = enddist*growing\n",
    "\n",
    "    outlabs = np.empty((diff-1,skimg.shape[1],skimg.shape[2]))\n",
    "    outims = np.empty((diff-1,skimg.shape[1],skimg.shape[2]))\n",
    "\n",
    "    newtifcounter = 0\n",
    "\n",
    "    for i in range(diff-1):\n",
    "        znew = i+1\n",
    "        zstartdist = (diff-znew)\n",
    "        zstartweight = (zstartdist)*chunk\n",
    "        zendweight = (diff-zstartdist)*chunk\n",
    "\n",
    "        shrinkmap = np.zeros(andmap.shape)\n",
    "        for i in range(1,max(np.unique(labeledstart))+1):\n",
    "            matrixspace = np.logical_and(shrinkblobs!=0,labeledstart==i)\n",
    "            sortedvals = sorted(np.unique(shrinkblobs*matrixspace)[1:])\n",
    "            if len(sortedvals) > 0:\n",
    "                shrinkthresh = (np.max(sortedvals))*(1-zstartweight)\n",
    "                positivepoints = np.logical_and(startdist>shrinkthresh, matrixspace)\n",
    "                shrinkmap[positivepoints] = True\n",
    "            else:\n",
    "                continue\n",
    "\n",
    "        growmap = np.zeros(andmap.shape)\n",
    "        for i in range(1,max(np.unique(labeledend))+1):\n",
    "            matrixspace =  np.logical_and(growblobs!=0,labeledend==i)\n",
    "            sortedvals = sorted(np.unique(growblobs*matrixspace)[1:])\n",
    "            if len(sortedvals) > 0:\n",
    "                growthresh = (np.max(sortedvals))*(1-zendweight)\n",
    "                positivepoints = np.logical_and(enddist>growthresh, matrixspace)\n",
    "                growmap[positivepoints] = True\n",
    "            else:\n",
    "                continue\n",
    "\n",
    "        combomap = np.logical_or(growmap,shrinkmap)\n",
    "        newz = np.logical_or(andmap,combomap)\n",
    "        outlabs[newtifcounter]=newz\n",
    "        ###\n",
    "        # Create an averaged image using the start and end weights\n",
    "        intim = cv2.addWeighted(startim,zstartweight,endim,zendweight,0)\n",
    "        # use the new z for the same level as a mask\n",
    "        mask = newz.copy()\n",
    "        maskedim = intim*mask\n",
    "        outims[newtifcounter]=maskedim\n",
    "        newtifcounter+=1\n",
    "\n",
    "    # if compare:\n",
    "    #         plt.figure(figsize=(10,15))\n",
    "    #         for i in range(diff-1):\n",
    "    #             zoffocus = i+1\n",
    "    #             actual = skimg[zstart+zoffocus].astype(np.uint8)\n",
    "    #             interpolated = outtifs[i].astype(np.uint8)\n",
    "    #             dif = np.logical_xor(actual,interpolated)\n",
    "    #\n",
    "    #             plt.subplot(outtifs.shape[0]+2, 3, 2)\n",
    "    #             plt.title(f'Z-Stack {zstart} Actual')\n",
    "    #             plt.axis('off')\n",
    "    #             plt.imshow(skimg[zstart],cmap='gray')\n",
    "    #\n",
    "    #             plt.subplot(outtifs.shape[0]+2, 3, ((zoffocus+2)*3)-5)\n",
    "    #             plt.title(f'Z-Stack {zstart+zoffocus} Actual')\n",
    "    #             plt.axis('off')\n",
    "    #             plt.imshow(skimg[zstart+zoffocus],cmap='gray')\n",
    "    #\n",
    "    #             plt.subplot(outtifs.shape[0]+2, 3, ((zoffocus+2)*3)-4)\n",
    "    #             plt.title(f'Z-Stack {zstart+zoffocus} Interpolated')\n",
    "    #             plt.axis('off')\n",
    "    #             plt.imshow(outtifs[i],cmap='gray')\n",
    "    #\n",
    "    #             plt.subplot(outtifs.shape[0]+2, 3, ((zoffocus+2)*3)-3)\n",
    "    #             plt.title(f'Z-Stack {zstart+zoffocus} Difference')\n",
    "    #             plt.axis('off')\n",
    "    #             plt.imshow(dif, cmap = 'viridis')\n",
    "    #\n",
    "    #             plt.subplot(outtifs.shape[0]+2, 3, ((zoffocus+2)*3)-1)\n",
    "    #             plt.title(f'Z-Stack {zend} Actual')\n",
    "    #             plt.axis('off')\n",
    "    #             plt.imshow(skimg[zend], cmap ='gray')\n",
    "    #\n",
    "    #         plt.tight_layout()\n",
    "    #         if savefigs:\n",
    "    #             plt.savefig(FIGDIR+\"Interpolation_Comparison.png\")\n",
    "\n",
    "    return outlabs, outims"
   ],
   "metadata": {
    "collapsed": false,
    "pycharm": {
     "name": "#%%\n"
    }
   }
  },
  {
   "cell_type": "code",
   "execution_count": 34,
   "outputs": [
    {
     "data": {
      "text/plain": "19"
     },
     "execution_count": 34,
     "metadata": {},
     "output_type": "execute_result"
    }
   ],
   "source": [
    "# Specify the number of intermediate layers to generate first, then create a new stack with empty images at the interpolated layers\n",
    "\n",
    "df = singledf\n",
    "# Things needed for the function\n",
    "intermediatelayers = 2\n",
    "insize = df.iloc[0]['zlayers']\n",
    "# Equation to find the size of the final stack after adding interpolated images\n",
    "outsize = insize+((insize-1)*intermediatelayers)\n",
    "outsize"
   ],
   "metadata": {
    "collapsed": false,
    "pycharm": {
     "name": "#%%\n"
    }
   }
  },
  {
   "cell_type": "code",
   "execution_count": 57,
   "outputs": [
    {
     "data": {
      "text/plain": "[0, 3, 6, 9, 12, 15, 18]"
     },
     "execution_count": 57,
     "metadata": {},
     "output_type": "execute_result"
    }
   ],
   "source": [
    "# Use the intermediate size to identify the positions of the original images\n",
    "x = range(0,np.max(outsize),intermediatelayers+1)\n",
    "origpositions = []\n",
    "for j in x:\n",
    "    origpositions.append(j)\n",
    "origpositions"
   ],
   "metadata": {
    "collapsed": false,
    "pycharm": {
     "name": "#%%\n"
    }
   }
  },
  {
   "cell_type": "code",
   "execution_count": 64,
   "outputs": [
    {
     "data": {
      "text/plain": "(19, 1024, 1024)"
     },
     "execution_count": 64,
     "metadata": {},
     "output_type": "execute_result"
    }
   ],
   "source": [
    "# Create a stack and add the original images to the positions\n",
    "## open loop\n",
    "i = 0\n",
    "imdata = df.loc[i]\n",
    "maskfile = imdata.labelpath\n",
    "imgname = imdata.imgfolder\n",
    "imagefile = imdata.imagepath\n",
    "stacks = df.iloc[i]['zlayers']\n",
    "buffmask = np.empty((outsize,df.iloc[i]['x'],df.iloc[i]['y']))\n",
    "buffims = np.empty((outsize,df.iloc[i]['x'],df.iloc[i]['y']))\n",
    "\n",
    "buffmask.shape\n",
    "buffims.shape"
   ],
   "metadata": {
    "collapsed": false,
    "pycharm": {
     "name": "#%%\n"
    }
   }
  },
  {
   "cell_type": "code",
   "execution_count": 67,
   "outputs": [],
   "source": [
    "# showtif(buffims)"
   ],
   "metadata": {
    "collapsed": false,
    "pycharm": {
     "name": "#%%\n"
    }
   }
  },
  {
   "cell_type": "code",
   "execution_count": 77,
   "outputs": [
    {
     "name": "stdout",
     "output_type": "stream",
     "text": [
      "(7, 1024, 1024) \n",
      " Showing Z-stack 1 of 7\n"
     ]
    },
    {
     "data": {
      "text/plain": "<matplotlib.image.AxesImage at 0x14fbe19df580>"
     },
     "execution_count": 77,
     "metadata": {},
     "output_type": "execute_result"
    },
    {
     "data": {
      "text/plain": "<Figure size 432x288 with 1 Axes>",
      "image/png": "[encoded data removed]"
     },
     "metadata": {},
     "output_type": "display_data"
    }
   ],
   "source": [
    "# Bring in an image\n",
    "origimg = io.imread(imagefile, plugin='tifffile')\n",
    "origmask = io.imread(maskfile, plugin='tifffile')\n",
    "showtif(origimg)"
   ],
   "metadata": {
    "collapsed": false,
    "pycharm": {
     "name": "#%%\n"
    }
   }
  },
  {
   "cell_type": "code",
   "execution_count": 78,
   "outputs": [],
   "source": [
    "# Apply each image to its corresponding position in the new stack\n",
    "for j in range(len(origimg)):\n",
    "    newpos = origpositions[j]\n",
    "    buffims[newpos] = origimg[j]\n",
    "    buffmask[newpos] = origmask[j]"
   ],
   "metadata": {
    "collapsed": false,
    "pycharm": {
     "name": "#%%\n"
    }
   }
  },
  {
   "cell_type": "code",
   "execution_count": 80,
   "outputs": [
    {
     "name": "stdout",
     "output_type": "stream",
     "text": [
      "(19, 1024, 1024) \n",
      " Showing Z-stack 4 of 19\n"
     ]
    },
    {
     "data": {
      "text/plain": "<matplotlib.image.AxesImage at 0x14fbe1a0fd90>"
     },
     "execution_count": 80,
     "metadata": {},
     "output_type": "execute_result"
    },
    {
     "data": {
      "text/plain": "<Figure size 432x288 with 1 Axes>",
      "image/png": "[encoded data removed]"
     },
     "metadata": {},
     "output_type": "display_data"
    }
   ],
   "source": [
    "showtif(buffmask,zstack=3)"
   ],
   "metadata": {
    "collapsed": false,
    "pycharm": {
     "name": "#%%\n"
    }
   }
  },
  {
   "cell_type": "code",
   "execution_count": 182,
   "outputs": [
    {
     "name": "stdout",
     "output_type": "stream",
     "text": [
      "--- 77.0 seconds for 1 file(s) ---\n"
     ]
    }
   ],
   "source": [
    "run = True # 72 seconds for one file\n",
    "# run = False\n",
    "\n",
    "if run:\n",
    "    start_time = time.time()\n",
    "    # Run the loop to generate intermediate masks and images\n",
    "    for j in range(len(buffmask)):\n",
    "        # Stop the loop once it reaches the final image\n",
    "        if j == len(buffmask)-1:\n",
    "            continue\n",
    "        # Only use the original inputs to generate interpolations\n",
    "        if j in origpositions:\n",
    "            zstart = j\n",
    "            # Find the index of the value in the original positions list to take the following original position\n",
    "            startind = origpositions.index(j)\n",
    "            zend = origpositions[startind+1]\n",
    "            intpmask, intpim = interpZv5(mask_stack=buffmask,image_stack=buffims,zstart=zstart,zend=zend)\n",
    "\n",
    "            # for interpolated images that are only one layer deep (diff=1), shape would be (1024,1024)\n",
    "            if len(intpim.shape) == 3:\n",
    "                # Move through the new stack and assign each layer to its correct position\n",
    "                for layer in range(intpim.shape[0]):\n",
    "                    # buffims\n",
    "                    newpos = j+(layer+1)\n",
    "                    buffims[newpos] = intpim[layer]\n",
    "                    buffmask[newpos] = intpmask[layer]\n",
    "            else:\n",
    "                newpos = j+1\n",
    "                buffims[newpos] = intpim\n",
    "                buffmask[newpos] = intpmask\n",
    "    print(\"--- %s seconds for %s file(s) ---\" % (round((time.time() - start_time),0),len(df)))"
   ],
   "metadata": {
    "collapsed": false,
    "pycharm": {
     "name": "#%%\n"
    }
   }
  },
  {
   "cell_type": "code",
   "execution_count": 176,
   "outputs": [],
   "source": [
    "# showtif(intpmask, zstack=0)"
   ],
   "metadata": {
    "collapsed": false,
    "pycharm": {
     "name": "#%%\n"
    }
   }
  },
  {
   "cell_type": "code",
   "execution_count": 177,
   "outputs": [],
   "source": [
    "# showtif(buffmask, zstack = 1)"
   ],
   "metadata": {
    "collapsed": false,
    "pycharm": {
     "name": "#%%\n"
    }
   }
  },
  {
   "cell_type": "code",
   "execution_count": 183,
   "outputs": [],
   "source": [
    "saveims = True\n",
    "saveims = False\n",
    "\n",
    "if saveims:\n",
    "    os.chdir(OUTDIR)\n",
    "    imgoutname = imgname+\"-\"+\"image-\"+\"addedinterplayers-\"+str(intermediatelayers)+'.tiff'\n",
    "    maskoutname = imgname+\"-\"+\"mask-\"+\"addedinterplayers-\"+str(intermediatelayers)+'.tiff'\n",
    "\n",
    "    pilimages = []\n",
    "    for i in range(buffmask.shape[0]):\n",
    "        new = Image.fromarray(buffmask[i])\n",
    "        pilimages.append(new)\n",
    "    pilimages[0].save(maskoutname,format='TIFF',save_all=True,append_images=pilimages[1:])\n",
    "\n",
    "    interpimgtiff = []\n",
    "    for i in range(buffims.shape[0]):\n",
    "        newimg = Image.fromarray(buffims[i])\n",
    "        newimg = newimg.convert(\"RGB\")\n",
    "        interpimgtiff.append(newimg)\n",
    "    interpimgtiff[0].save(imgoutname,format='TIFF',save_all=True,append_images=interpimgtiff[1:])\n",
    "    # print(imgoutname)\n",
    "    # print(maskoutname)\n"
   ],
   "metadata": {
    "collapsed": false,
    "pycharm": {
     "name": "#%%\n"
    }
   }
  },
  {
   "cell_type": "markdown",
   "source": [
    "# Full Loop"
   ],
   "metadata": {
    "collapsed": false,
    "pycharm": {
     "name": "#%% md\n"
    }
   }
  },
  {
   "cell_type": "code",
   "execution_count": 191,
   "outputs": [
    {
     "name": "stdout",
     "output_type": "stream",
     "text": [
      "--- 3623.0 seconds for 23 file(s) ---\n"
     ]
    }
   ],
   "source": [
    "run = True\n",
    "run = False\n",
    "\n",
    "saveims = True\n",
    "saveims = False\n",
    "\n",
    "df = singledf\n",
    "df=testdf\n",
    "df=imgdf\n",
    "\n",
    "if run:\n",
    "    start_time = time.time()\n",
    "    layerstotest = [1,2,3]\n",
    "\n",
    "    for intermeds in layerstotest:\n",
    "        # Set the desired layers to generate between each original image\n",
    "        intermediatelayers = intermeds\n",
    "\n",
    "        for i in df.index:\n",
    "            insize = df.iloc[0]['zlayers']\n",
    "\n",
    "            # Equation to find the size of the final stack after adding interpolated images\n",
    "            outsize = insize+((insize-1)*intermediatelayers)\n",
    "\n",
    "            # Use the intermediate size to identify the positions of the original images\n",
    "            x = range(0,np.max(outsize),intermediatelayers+1)\n",
    "            origpositions = []\n",
    "            for j in x:\n",
    "                origpositions.append(j)\n",
    "\n",
    "            # Create a stack and add the original images to the positions\n",
    "            imdata = df.loc[i]\n",
    "            maskfile = imdata.labelpath\n",
    "            imgname = imdata.imgfolder\n",
    "            imagefile = imdata.imagepath\n",
    "            stacks = df.iloc[i]['zlayers']\n",
    "            buffmask = np.empty((outsize,df.iloc[i]['x'],df.iloc[i]['y']))\n",
    "            buffims = np.empty((outsize,df.iloc[i]['x'],df.iloc[i]['y']))\n",
    "\n",
    "            # Bring in an image\n",
    "            origimg = io.imread(imagefile, plugin='tifffile')\n",
    "            origmask = io.imread(maskfile, plugin='tifffile')\n",
    "\n",
    "            # Apply each image to its corresponding position in the new stack\n",
    "            for j in range(len(origimg)):\n",
    "                newpos = origpositions[j]\n",
    "                buffims[newpos] = origimg[j]\n",
    "                buffmask[newpos] = origmask[j]\n",
    "\n",
    "            # Run the loop to generate intermediate masks and images\n",
    "            for j in range(len(buffmask)):\n",
    "                # Stop the loop once it reaches the final image\n",
    "                if j == len(buffmask)-1:\n",
    "                    continue\n",
    "                # Only use the original inputs to generate interpolations\n",
    "                if j in origpositions:\n",
    "                    zstart = j\n",
    "                    # Find the index of the value in the original positions list to take the following original position\n",
    "                    startind = origpositions.index(j)\n",
    "                    zend = origpositions[startind+1]\n",
    "                    intpmask, intpim = interpZv5(mask_stack=buffmask,image_stack=buffims,zstart=zstart,zend=zend)\n",
    "\n",
    "                    # for interpolated images that are only one layer deep (diff=1), shape would be (1024,1024)\n",
    "                    if len(intpim.shape) == 3:\n",
    "                        # Move through the new stack and assign each layer to its correct position\n",
    "                        for layer in range(intpim.shape[0]):\n",
    "                            # buffims\n",
    "                            newpos = j+(layer+1)\n",
    "                            buffims[newpos] = intpim[layer]\n",
    "                            buffmask[newpos] = intpmask[layer]\n",
    "                    else:\n",
    "                        newpos = j+1\n",
    "                        buffims[newpos] = intpim\n",
    "                        buffmask[newpos] = intpmask\n",
    "            # Save the entire stack after it is created\n",
    "            if saveims:\n",
    "                os.chdir(OUTDIR)\n",
    "                imgoutname = imgname+\"-\"+\"image-\"+\"addedinterplayers-\"+str(intermediatelayers)+'.tiff'\n",
    "                maskoutname = imgname+\"-\"+\"mask-\"+\"addedinterplayers-\"+str(intermediatelayers)+'.tiff'\n",
    "\n",
    "                pilimages = []\n",
    "                for j in range(buffmask.shape[0]):\n",
    "                    new = Image.fromarray(buffmask[j])\n",
    "                    pilimages.append(new)\n",
    "                pilimages[0].save(maskoutname,format='TIFF',save_all=True,append_images=pilimages[1:])\n",
    "\n",
    "                interpimgtiff = []\n",
    "                for j in range(buffims.shape[0]):\n",
    "                    newimg = Image.fromarray(buffims[j])\n",
    "                    newimg = newimg.convert(\"RGB\")\n",
    "                    interpimgtiff.append(newimg)\n",
    "                interpimgtiff[0].save(imgoutname,format='TIFF',save_all=True,append_images=interpimgtiff[1:])\n",
    "    print(\"--- %s seconds for %s file(s) ---\" % (round((time.time() - start_time),0),len(df)))"
   ],
   "metadata": {
    "collapsed": false,
    "pycharm": {
     "name": "#%%\n"
    }
   }
  }
 ],
 "metadata": {
  "kernelspec": {
   "display_name": "Python 3",
   "language": "python",
   "name": "python3"
  },
  "language_info": {
   "codemirror_mode": {
    "name": "ipython",
    "version": 2
   },
   "file_extension": ".py",
   "mimetype": "text/x-python",
   "name": "python",
   "nbconvert_exporter": "python",
   "pygments_lexer": "ipython2",
   "version": "2.7.6"
  }
 },
 "nbformat": 4,
 "nbformat_minor": 0
}