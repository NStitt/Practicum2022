{
 "cells": [
  {
   "cell_type": "markdown",
   "source": [
    "# Starters"
   ],
   "metadata": {
    "collapsed": false,
    "pycharm": {
     "name": "#%% md\n"
    }
   }
  },
  {
   "cell_type": "markdown",
   "source": [
    "## Imports"
   ],
   "metadata": {
    "collapsed": false,
    "pycharm": {
     "name": "#%% md\n"
    }
   }
  },
  {
   "cell_type": "code",
   "execution_count": 2,
   "metadata": {
    "collapsed": true,
    "pycharm": {
     "name": "#%%\n"
    }
   },
   "outputs": [
    {
     "name": "stderr",
     "output_type": "stream",
     "text": [
      "2022-06-19 09:35:00.389455: I tensorflow/stream_executor/platform/default/dso_loader.cc:53] Successfully opened dynamic library libcudart.so.11.0\n"
     ]
    }
   ],
   "source": [
    "import imageio\n",
    "import matplotlib.pyplot as plt\n",
    "import numpy as np\n",
    "import os\n",
    "import pandas as pd\n",
    "import seaborn as sns\n",
    "import skimage.measure\n",
    "from PIL import Image\n",
    "import re\n",
    "import time\n",
    "from skimage.io import imsave, imread\n",
    "# from skimage.util import img_as_ubyte\n",
    "from scipy import ndimage\n",
    "import deepcell\n",
    "import deepcell.applications.cell_tracking\n",
    "from deepcell.applications import Mesmer\n",
    "from skimage import (\n",
    "    color, data, color, io, filters, measure, morphology, segmentation\n",
    ")\n",
    "import cv2\n",
    "from skimage import measure\n",
    "# import torch\n",
    "import glob\n",
    "import seaborn as sns\n",
    "from skimage.feature import peak_local_max\n",
    "from skimage.segmentation import watershed\n",
    "from skimage import feature\n",
    "import math\n",
    "import copy\n",
    "import glob\n",
    "import colorcet as cc\n",
    "from collections import Counter\n",
    "import ipynb\n",
    "# import plotly.io\n",
    "# import plotly.express as px"
   ]
  },
  {
   "cell_type": "markdown",
   "source": [
    "## Define Functions"
   ],
   "metadata": {
    "collapsed": false,
    "pycharm": {
     "name": "#%% md\n"
    }
   }
  },
  {
   "cell_type": "code",
   "execution_count": 3,
   "outputs": [],
   "source": [
    "# For sorting lists\n",
    "def sort_nicely(l):\n",
    "    \"\"\" Sort the given list in the way that humans expect.\n",
    "    \"\"\"\n",
    "    convert = lambda text: int(text) if text.isdigit() else text\n",
    "    alphanum_key = lambda key: [convert(c) for c in re.split('([0-9]+)', key)]\n",
    "    l.sort(key=alphanum_key)\n",
    "\n",
    "# Function for showing tifs quickly\n",
    "def showtif(file, zstack=0, channel=0, verbose=True):\n",
    "    if os.path.isfile(file):\n",
    "        skimg = io.imread(file, plugin='tifffile')\n",
    "    else:\n",
    "        skimg = file\n",
    "    if len(skimg.shape) == 2:\n",
    "        img = skimg\n",
    "    if len(skimg.shape) == 3:\n",
    "        img = skimg[zstack]\n",
    "    if len(skimg.shape) == 4:\n",
    "        img = skimg[zstack, channel]\n",
    "    if verbose == True:\n",
    "        if len(skimg.shape) == 2:\n",
    "            print(skimg.shape, \"\\n\", \"Single layer of size {} x {}\".format(skimg.shape[0], skimg.shape[1]))\n",
    "        else:\n",
    "            print(skimg.shape, \"\\n\", \"Showing Z-stack {} of {}\".format(zstack, skimg.shape[0]-1))\n",
    "    plt.axis('off')\n",
    "    a = plt.imshow(img, cmap='gray')\n",
    "    return a\n",
    "\n",
    "# Function for returning values from dictionary keys\n",
    "def get_key(dict, val):\n",
    "    if type(val) == float:\n",
    "        for key, value in dict.items():\n",
    "            if val == value:\n",
    "                return key\n",
    "        return \"key doesn't exist\"\n",
    "    if type(val) == list:\n",
    "        outkeys = []\n",
    "        for i in val:\n",
    "            for key, value in dict.items():\n",
    "                if i == value:\n",
    "                    outkeys.append(key)\n",
    "        return outkeys"
   ],
   "metadata": {
    "collapsed": false,
    "pycharm": {
     "name": "#%%\n"
    }
   }
  },
  {
   "cell_type": "markdown",
   "source": [
    "## Set Directories"
   ],
   "metadata": {
    "collapsed": false,
    "pycharm": {
     "name": "#%% md\n"
    }
   }
  },
  {
   "cell_type": "code",
   "execution_count": 4,
   "outputs": [],
   "source": [
    "SCRIPTDIR = os.path.realpath('./')\n",
    "SCRIPTDIR = '/scratch/ns4964/lionnet/scripts/'\n",
    "\n",
    "os.chdir(SCRIPTDIR)\n",
    "os.chdir('../inputs/train3D/')\n",
    "DATADIR = os.getcwd()\n",
    "\n",
    "os.chdir(SCRIPTDIR)\n",
    "os.chdir('../output/Mesmer/train3d/')\n",
    "OUTDIR = os.getcwd()\n",
    "\n",
    "os.chdir(SCRIPTDIR)\n",
    "os.chdir('../output/Interpolated/')\n",
    "INTERPDIR = os.getcwd()\n",
    "\n",
    "os.chdir(SCRIPTDIR)"
   ],
   "metadata": {
    "collapsed": false,
    "pycharm": {
     "name": "#%%\n"
    }
   }
  },
  {
   "cell_type": "markdown",
   "source": [
    "## Bring in Data"
   ],
   "metadata": {
    "collapsed": false,
    "pycharm": {
     "name": "#%% md\n"
    }
   }
  },
  {
   "cell_type": "code",
   "execution_count": 5,
   "outputs": [
    {
     "data": {
      "text/plain": "               imgfolder                                            gappath  \\\n0    C1-FB323A_CSC_Rd1_1  /scratch/ns4964/lionnet/inputs/train3D/C1-FB32...   \n1    C1-FB323A_CSC_Rd1_2  /scratch/ns4964/lionnet/inputs/train3D/C1-FB32...   \n2    C1-FB323A_CSC_Rd1_3  /scratch/ns4964/lionnet/inputs/train3D/C1-FB32...   \n3    C1-FB323A_CSC_Rd1_4  /scratch/ns4964/lionnet/inputs/train3D/C1-FB32...   \n4    C1-FB323A_CSC_Rd1_5  /scratch/ns4964/lionnet/inputs/train3D/C1-FB32...   \n5    C1-FB323A_CSC_Rd1_6  /scratch/ns4964/lionnet/inputs/train3D/C1-FB32...   \n6    C1-FB323A_CSC_Rd1_7  /scratch/ns4964/lionnet/inputs/train3D/C1-FB32...   \n7    C1-FB323A_CSC_Rd1_8  /scratch/ns4964/lionnet/inputs/train3D/C1-FB32...   \n8    C1-FB323A_CSC_Rd1_9  /scratch/ns4964/lionnet/inputs/train3D/C1-FB32...   \n9   C1-FB323A_CSC_Rd1_10  /scratch/ns4964/lionnet/inputs/train3D/C1-FB32...   \n10  C1-FB323A_CSC_Rd1_11  /scratch/ns4964/lionnet/inputs/train3D/C1-FB32...   \n11  C1-FB323A_CSC_Rd1_12  /scratch/ns4964/lionnet/inputs/train3D/C1-FB32...   \n12  C1-FB323A_CSC_Rd1_13  /scratch/ns4964/lionnet/inputs/train3D/C1-FB32...   \n13  C1-FB323A_CSC_Rd1_14  /scratch/ns4964/lionnet/inputs/train3D/C1-FB32...   \n14  C1-FB323A_CSC_Rd1_15  /scratch/ns4964/lionnet/inputs/train3D/C1-FB32...   \n15  C1-FB323A_CSC_Rd1_16  /scratch/ns4964/lionnet/inputs/train3D/C1-FB32...   \n16  C1-FB323A_CSC_Rd1_17  /scratch/ns4964/lionnet/inputs/train3D/C1-FB32...   \n17  C1-FB323A_CSC_Rd1_18  /scratch/ns4964/lionnet/inputs/train3D/C1-FB32...   \n18  C1-FB323A_CSC_Rd1_19  /scratch/ns4964/lionnet/inputs/train3D/C1-FB32...   \n19  C1-FB323A_CSC_Rd1_20  /scratch/ns4964/lionnet/inputs/train3D/C1-FB32...   \n20  C1-FB323A_CSC_Rd1_21  /scratch/ns4964/lionnet/inputs/train3D/C1-FB32...   \n21  C1-FB323A_CSC_Rd1_22  /scratch/ns4964/lionnet/inputs/train3D/C1-FB32...   \n22  C1-FB323A_CSC_Rd1_23  /scratch/ns4964/lionnet/inputs/train3D/C1-FB32...   \n\n                                            imagepath  \\\n0   /scratch/ns4964/lionnet/inputs/train3D/C1-FB32...   \n1   /scratch/ns4964/lionnet/inputs/train3D/C1-FB32...   \n2   /scratch/ns4964/lionnet/inputs/train3D/C1-FB32...   \n3   /scratch/ns4964/lionnet/inputs/train3D/C1-FB32...   \n4   /scratch/ns4964/lionnet/inputs/train3D/C1-FB32...   \n5   /scratch/ns4964/lionnet/inputs/train3D/C1-FB32...   \n6   /scratch/ns4964/lionnet/inputs/train3D/C1-FB32...   \n7   /scratch/ns4964/lionnet/inputs/train3D/C1-FB32...   \n8   /scratch/ns4964/lionnet/inputs/train3D/C1-FB32...   \n9   /scratch/ns4964/lionnet/inputs/train3D/C1-FB32...   \n10  /scratch/ns4964/lionnet/inputs/train3D/C1-FB32...   \n11  /scratch/ns4964/lionnet/inputs/train3D/C1-FB32...   \n12  /scratch/ns4964/lionnet/inputs/train3D/C1-FB32...   \n13  /scratch/ns4964/lionnet/inputs/train3D/C1-FB32...   \n14  /scratch/ns4964/lionnet/inputs/train3D/C1-FB32...   \n15  /scratch/ns4964/lionnet/inputs/train3D/C1-FB32...   \n16  /scratch/ns4964/lionnet/inputs/train3D/C1-FB32...   \n17  /scratch/ns4964/lionnet/inputs/train3D/C1-FB32...   \n18  /scratch/ns4964/lionnet/inputs/train3D/C1-FB32...   \n19  /scratch/ns4964/lionnet/inputs/train3D/C1-FB32...   \n20  /scratch/ns4964/lionnet/inputs/train3D/C1-FB32...   \n21  /scratch/ns4964/lionnet/inputs/train3D/C1-FB32...   \n22  /scratch/ns4964/lionnet/inputs/train3D/C1-FB32...   \n\n                                            labelpath zlayers     x     y  \n0   /scratch/ns4964/lionnet/inputs/train3D/C1-FB32...       7  1024  1024  \n1   /scratch/ns4964/lionnet/inputs/train3D/C1-FB32...       7  1024  1024  \n2   /scratch/ns4964/lionnet/inputs/train3D/C1-FB32...       7  1024  1024  \n3   /scratch/ns4964/lionnet/inputs/train3D/C1-FB32...       7  1024  1024  \n4   /scratch/ns4964/lionnet/inputs/train3D/C1-FB32...       7  1024  1024  \n5   /scratch/ns4964/lionnet/inputs/train3D/C1-FB32...       7  1024  1024  \n6   /scratch/ns4964/lionnet/inputs/train3D/C1-FB32...       7  1024  1024  \n7   /scratch/ns4964/lionnet/inputs/train3D/C1-FB32...       7  1024  1024  \n8   /scratch/ns4964/lionnet/inputs/train3D/C1-FB32...       7  1024  1024  \n9   /scratch/ns4964/lionnet/inputs/train3D/C1-FB32...       7  1024  1024  \n10  /scratch/ns4964/lionnet/inputs/train3D/C1-FB32...       7  1024  1024  \n11  /scratch/ns4964/lionnet/inputs/train3D/C1-FB32...       7  1024  1024  \n12  /scratch/ns4964/lionnet/inputs/train3D/C1-FB32...       7  1024  1024  \n13  /scratch/ns4964/lionnet/inputs/train3D/C1-FB32...       7  1024  1024  \n14  /scratch/ns4964/lionnet/inputs/train3D/C1-FB32...       7  1024  1024  \n15  /scratch/ns4964/lionnet/inputs/train3D/C1-FB32...       7  1024  1024  \n16  /scratch/ns4964/lionnet/inputs/train3D/C1-FB32...       7  1024  1024  \n17  /scratch/ns4964/lionnet/inputs/train3D/C1-FB32...       7  1024  1024  \n18  /scratch/ns4964/lionnet/inputs/train3D/C1-FB32...       7  1024  1024  \n19  /scratch/ns4964/lionnet/inputs/train3D/C1-FB32...       7  1024  1024  \n20  /scratch/ns4964/lionnet/inputs/train3D/C1-FB32...       7  1024  1024  \n21  /scratch/ns4964/lionnet/inputs/train3D/C1-FB32...       7  1024  1024  \n22  /scratch/ns4964/lionnet/inputs/train3D/C1-FB32...       7  1024  1024  ",
      "text/html": "<div>\n<style scoped>\n    .dataframe tbody tr th:only-of-type {\n        vertical-align: middle;\n    }\n\n    .dataframe tbody tr th {\n        vertical-align: top;\n    }\n\n    .dataframe thead th {\n        text-align: right;\n    }\n</style>\n<table border=\"1\" class=\"dataframe\">\n  <thead>\n    <tr style=\"text-align: right;\">\n      <th></th>\n      <th>imgfolder</th>\n      <th>gappath</th>\n      <th>imagepath</th>\n      <th>labelpath</th>\n      <th>zlayers</th>\n      <th>x</th>\n      <th>y</th>\n    </tr>\n  </thead>\n  <tbody>\n    <tr>\n      <th>0</th>\n      <td>C1-FB323A_CSC_Rd1_1</td>\n      <td>/scratch/ns4964/lionnet/inputs/train3D/C1-FB32...</td>\n      <td>/scratch/ns4964/lionnet/inputs/train3D/C1-FB32...</td>\n      <td>/scratch/ns4964/lionnet/inputs/train3D/C1-FB32...</td>\n      <td>7</td>\n      <td>1024</td>\n      <td>1024</td>\n    </tr>\n    <tr>\n      <th>1</th>\n      <td>C1-FB323A_CSC_Rd1_2</td>\n      <td>/scratch/ns4964/lionnet/inputs/train3D/C1-FB32...</td>\n      <td>/scratch/ns4964/lionnet/inputs/train3D/C1-FB32...</td>\n      <td>/scratch/ns4964/lionnet/inputs/train3D/C1-FB32...</td>\n      <td>7</td>\n      <td>1024</td>\n      <td>1024</td>\n    </tr>\n    <tr>\n      <th>2</th>\n      <td>C1-FB323A_CSC_Rd1_3</td>\n      <td>/scratch/ns4964/lionnet/inputs/train3D/C1-FB32...</td>\n      <td>/scratch/ns4964/lionnet/inputs/train3D/C1-FB32...</td>\n      <td>/scratch/ns4964/lionnet/inputs/train3D/C1-FB32...</td>\n      <td>7</td>\n      <td>1024</td>\n      <td>1024</td>\n    </tr>\n    <tr>\n      <th>3</th>\n      <td>C1-FB323A_CSC_Rd1_4</td>\n      <td>/scratch/ns4964/lionnet/inputs/train3D/C1-FB32...</td>\n      <td>/scratch/ns4964/lionnet/inputs/train3D/C1-FB32...</td>\n      <td>/scratch/ns4964/lionnet/inputs/train3D/C1-FB32...</td>\n      <td>7</td>\n      <td>1024</td>\n      <td>1024</td>\n    </tr>\n    <tr>\n      <th>4</th>\n      <td>C1-FB323A_CSC_Rd1_5</td>\n      <td>/scratch/ns4964/lionnet/inputs/train3D/C1-FB32...</td>\n      <td>/scratch/ns4964/lionnet/inputs/train3D/C1-FB32...</td>\n      <td>/scratch/ns4964/lionnet/inputs/train3D/C1-FB32...</td>\n      <td>7</td>\n      <td>1024</td>\n      <td>1024</td>\n    </tr>\n    <tr>\n      <th>5</th>\n      <td>C1-FB323A_CSC_Rd1_6</td>\n      <td>/scratch/ns4964/lionnet/inputs/train3D/C1-FB32...</td>\n      <td>/scratch/ns4964/lionnet/inputs/train3D/C1-FB32...</td>\n      <td>/scratch/ns4964/lionnet/inputs/train3D/C1-FB32...</td>\n      <td>7</td>\n      <td>1024</td>\n      <td>1024</td>\n    </tr>\n    <tr>\n      <th>6</th>\n      <td>C1-FB323A_CSC_Rd1_7</td>\n      <td>/scratch/ns4964/lionnet/inputs/train3D/C1-FB32...</td>\n      <td>/scratch/ns4964/lionnet/inputs/train3D/C1-FB32...</td>\n      <td>/scratch/ns4964/lionnet/inputs/train3D/C1-FB32...</td>\n      <td>7</td>\n      <td>1024</td>\n      <td>1024</td>\n    </tr>\n    <tr>\n      <th>7</th>\n      <td>C1-FB323A_CSC_Rd1_8</td>\n      <td>/scratch/ns4964/lionnet/inputs/train3D/C1-FB32...</td>\n      <td>/scratch/ns4964/lionnet/inputs/train3D/C1-FB32...</td>\n      <td>/scratch/ns4964/lionnet/inputs/train3D/C1-FB32...</td>\n      <td>7</td>\n      <td>1024</td>\n      <td>1024</td>\n    </tr>\n    <tr>\n      <th>8</th>\n      <td>C1-FB323A_CSC_Rd1_9</td>\n      <td>/scratch/ns4964/lionnet/inputs/train3D/C1-FB32...</td>\n      <td>/scratch/ns4964/lionnet/inputs/train3D/C1-FB32...</td>\n      <td>/scratch/ns4964/lionnet/inputs/train3D/C1-FB32...</td>\n      <td>7</td>\n      <td>1024</td>\n      <td>1024</td>\n    </tr>\n    <tr>\n      <th>9</th>\n      <td>C1-FB323A_CSC_Rd1_10</td>\n      <td>/scratch/ns4964/lionnet/inputs/train3D/C1-FB32...</td>\n      <td>/scratch/ns4964/lionnet/inputs/train3D/C1-FB32...</td>\n      <td>/scratch/ns4964/lionnet/inputs/train3D/C1-FB32...</td>\n      <td>7</td>\n      <td>1024</td>\n      <td>1024</td>\n    </tr>\n    <tr>\n      <th>10</th>\n      <td>C1-FB323A_CSC_Rd1_11</td>\n      <td>/scratch/ns4964/lionnet/inputs/train3D/C1-FB32...</td>\n      <td>/scratch/ns4964/lionnet/inputs/train3D/C1-FB32...</td>\n      <td>/scratch/ns4964/lionnet/inputs/train3D/C1-FB32...</td>\n      <td>7</td>\n      <td>1024</td>\n      <td>1024</td>\n    </tr>\n    <tr>\n      <th>11</th>\n      <td>C1-FB323A_CSC_Rd1_12</td>\n      <td>/scratch/ns4964/lionnet/inputs/train3D/C1-FB32...</td>\n      <td>/scratch/ns4964/lionnet/inputs/train3D/C1-FB32...</td>\n      <td>/scratch/ns4964/lionnet/inputs/train3D/C1-FB32...</td>\n      <td>7</td>\n      <td>1024</td>\n      <td>1024</td>\n    </tr>\n    <tr>\n      <th>12</th>\n      <td>C1-FB323A_CSC_Rd1_13</td>\n      <td>/scratch/ns4964/lionnet/inputs/train3D/C1-FB32...</td>\n      <td>/scratch/ns4964/lionnet/inputs/train3D/C1-FB32...</td>\n      <td>/scratch/ns4964/lionnet/inputs/train3D/C1-FB32...</td>\n      <td>7</td>\n      <td>1024</td>\n      <td>1024</td>\n    </tr>\n    <tr>\n      <th>13</th>\n      <td>C1-FB323A_CSC_Rd1_14</td>\n      <td>/scratch/ns4964/lionnet/inputs/train3D/C1-FB32...</td>\n      <td>/scratch/ns4964/lionnet/inputs/train3D/C1-FB32...</td>\n      <td>/scratch/ns4964/lionnet/inputs/train3D/C1-FB32...</td>\n      <td>7</td>\n      <td>1024</td>\n      <td>1024</td>\n    </tr>\n    <tr>\n      <th>14</th>\n      <td>C1-FB323A_CSC_Rd1_15</td>\n      <td>/scratch/ns4964/lionnet/inputs/train3D/C1-FB32...</td>\n      <td>/scratch/ns4964/lionnet/inputs/train3D/C1-FB32...</td>\n      <td>/scratch/ns4964/lionnet/inputs/train3D/C1-FB32...</td>\n      <td>7</td>\n      <td>1024</td>\n      <td>1024</td>\n    </tr>\n    <tr>\n      <th>15</th>\n      <td>C1-FB323A_CSC_Rd1_16</td>\n      <td>/scratch/ns4964/lionnet/inputs/train3D/C1-FB32...</td>\n      <td>/scratch/ns4964/lionnet/inputs/train3D/C1-FB32...</td>\n      <td>/scratch/ns4964/lionnet/inputs/train3D/C1-FB32...</td>\n      <td>7</td>\n      <td>1024</td>\n      <td>1024</td>\n    </tr>\n    <tr>\n      <th>16</th>\n      <td>C1-FB323A_CSC_Rd1_17</td>\n      <td>/scratch/ns4964/lionnet/inputs/train3D/C1-FB32...</td>\n      <td>/scratch/ns4964/lionnet/inputs/train3D/C1-FB32...</td>\n      <td>/scratch/ns4964/lionnet/inputs/train3D/C1-FB32...</td>\n      <td>7</td>\n      <td>1024</td>\n      <td>1024</td>\n    </tr>\n    <tr>\n      <th>17</th>\n      <td>C1-FB323A_CSC_Rd1_18</td>\n      <td>/scratch/ns4964/lionnet/inputs/train3D/C1-FB32...</td>\n      <td>/scratch/ns4964/lionnet/inputs/train3D/C1-FB32...</td>\n      <td>/scratch/ns4964/lionnet/inputs/train3D/C1-FB32...</td>\n      <td>7</td>\n      <td>1024</td>\n      <td>1024</td>\n    </tr>\n    <tr>\n      <th>18</th>\n      <td>C1-FB323A_CSC_Rd1_19</td>\n      <td>/scratch/ns4964/lionnet/inputs/train3D/C1-FB32...</td>\n      <td>/scratch/ns4964/lionnet/inputs/train3D/C1-FB32...</td>\n      <td>/scratch/ns4964/lionnet/inputs/train3D/C1-FB32...</td>\n      <td>7</td>\n      <td>1024</td>\n      <td>1024</td>\n    </tr>\n    <tr>\n      <th>19</th>\n      <td>C1-FB323A_CSC_Rd1_20</td>\n      <td>/scratch/ns4964/lionnet/inputs/train3D/C1-FB32...</td>\n      <td>/scratch/ns4964/lionnet/inputs/train3D/C1-FB32...</td>\n      <td>/scratch/ns4964/lionnet/inputs/train3D/C1-FB32...</td>\n      <td>7</td>\n      <td>1024</td>\n      <td>1024</td>\n    </tr>\n    <tr>\n      <th>20</th>\n      <td>C1-FB323A_CSC_Rd1_21</td>\n      <td>/scratch/ns4964/lionnet/inputs/train3D/C1-FB32...</td>\n      <td>/scratch/ns4964/lionnet/inputs/train3D/C1-FB32...</td>\n      <td>/scratch/ns4964/lionnet/inputs/train3D/C1-FB32...</td>\n      <td>7</td>\n      <td>1024</td>\n      <td>1024</td>\n    </tr>\n    <tr>\n      <th>21</th>\n      <td>C1-FB323A_CSC_Rd1_22</td>\n      <td>/scratch/ns4964/lionnet/inputs/train3D/C1-FB32...</td>\n      <td>/scratch/ns4964/lionnet/inputs/train3D/C1-FB32...</td>\n      <td>/scratch/ns4964/lionnet/inputs/train3D/C1-FB32...</td>\n      <td>7</td>\n      <td>1024</td>\n      <td>1024</td>\n    </tr>\n    <tr>\n      <th>22</th>\n      <td>C1-FB323A_CSC_Rd1_23</td>\n      <td>/scratch/ns4964/lionnet/inputs/train3D/C1-FB32...</td>\n      <td>/scratch/ns4964/lionnet/inputs/train3D/C1-FB32...</td>\n      <td>/scratch/ns4964/lionnet/inputs/train3D/C1-FB32...</td>\n      <td>7</td>\n      <td>1024</td>\n      <td>1024</td>\n    </tr>\n  </tbody>\n</table>\n</div>"
     },
     "execution_count": 5,
     "metadata": {},
     "output_type": "execute_result"
    }
   ],
   "source": [
    "# Only pull folders from the data directory\n",
    "os.chdir(DATADIR)\n",
    "imgfolders = []\n",
    "for file in os.listdir():\n",
    "    if os.path.isdir(file):\n",
    "        imgfolders.append(file)\n",
    "\n",
    "sort_nicely(imgfolders)\n",
    "\n",
    "# Create reference df for all images\n",
    "imgdf = pd.DataFrame(imgfolders, columns=['imgfolder'])\n",
    "imgdf['gappath'] = ''\n",
    "imgdf['imagepath'] = ''\n",
    "imgdf['labelpath'] = ''\n",
    "imgdf['zlayers'] = ''\n",
    "imgdf['x'] = ''\n",
    "imgdf['y'] = ''\n",
    "\n",
    "for index, row in imgdf.iterrows():\n",
    "    indir = os.path.join(DATADIR, imgdf.iloc[index]['imgfolder'])\n",
    "    imgdf.at[index, 'gappath'] = os.path.join(indir, 'gap.tif')\n",
    "    imgdf.at[index, 'imagepath'] = os.path.join(indir, 'image.tif')\n",
    "    imgdf.at[index, 'labelpath'] = os.path.join(indir, 'label.tif')\n",
    "    im = imgdf['imagepath'][0]\n",
    "    skimg = io.imread(im, plugin='tifffile')\n",
    "    imgdf.at[index, 'zlayers'] = skimg.shape[0]\n",
    "    imgdf.at[index, 'x'] = skimg.shape[1]\n",
    "    imgdf.at[index, 'y'] = skimg.shape[2]\n",
    "imgdf"
   ],
   "metadata": {
    "collapsed": false,
    "pycharm": {
     "name": "#%%\n"
    }
   }
  },
  {
   "cell_type": "code",
   "execution_count": 137,
   "outputs": [
    {
     "data": {
      "text/plain": "             imgfolder                                            gappath  \\\n0  C1-FB323A_CSC_Rd1_1  /scratch/ns4964/lionnet/inputs/train3D/C1-FB32...   \n1  C1-FB323A_CSC_Rd1_2  /scratch/ns4964/lionnet/inputs/train3D/C1-FB32...   \n2  C1-FB323A_CSC_Rd1_3  /scratch/ns4964/lionnet/inputs/train3D/C1-FB32...   \n\n                                           imagepath  \\\n0  /scratch/ns4964/lionnet/inputs/train3D/C1-FB32...   \n1  /scratch/ns4964/lionnet/inputs/train3D/C1-FB32...   \n2  /scratch/ns4964/lionnet/inputs/train3D/C1-FB32...   \n\n                                           labelpath zlayers     x     y  \n0  /scratch/ns4964/lionnet/inputs/train3D/C1-FB32...       7  1024  1024  \n1  /scratch/ns4964/lionnet/inputs/train3D/C1-FB32...       7  1024  1024  \n2  /scratch/ns4964/lionnet/inputs/train3D/C1-FB32...       7  1024  1024  ",
      "text/html": "<div>\n<style scoped>\n    .dataframe tbody tr th:only-of-type {\n        vertical-align: middle;\n    }\n\n    .dataframe tbody tr th {\n        vertical-align: top;\n    }\n\n    .dataframe thead th {\n        text-align: right;\n    }\n</style>\n<table border=\"1\" class=\"dataframe\">\n  <thead>\n    <tr style=\"text-align: right;\">\n      <th></th>\n      <th>imgfolder</th>\n      <th>gappath</th>\n      <th>imagepath</th>\n      <th>labelpath</th>\n      <th>zlayers</th>\n      <th>x</th>\n      <th>y</th>\n    </tr>\n  </thead>\n  <tbody>\n    <tr>\n      <th>0</th>\n      <td>C1-FB323A_CSC_Rd1_1</td>\n      <td>/scratch/ns4964/lionnet/inputs/train3D/C1-FB32...</td>\n      <td>/scratch/ns4964/lionnet/inputs/train3D/C1-FB32...</td>\n      <td>/scratch/ns4964/lionnet/inputs/train3D/C1-FB32...</td>\n      <td>7</td>\n      <td>1024</td>\n      <td>1024</td>\n    </tr>\n    <tr>\n      <th>1</th>\n      <td>C1-FB323A_CSC_Rd1_2</td>\n      <td>/scratch/ns4964/lionnet/inputs/train3D/C1-FB32...</td>\n      <td>/scratch/ns4964/lionnet/inputs/train3D/C1-FB32...</td>\n      <td>/scratch/ns4964/lionnet/inputs/train3D/C1-FB32...</td>\n      <td>7</td>\n      <td>1024</td>\n      <td>1024</td>\n    </tr>\n    <tr>\n      <th>2</th>\n      <td>C1-FB323A_CSC_Rd1_3</td>\n      <td>/scratch/ns4964/lionnet/inputs/train3D/C1-FB32...</td>\n      <td>/scratch/ns4964/lionnet/inputs/train3D/C1-FB32...</td>\n      <td>/scratch/ns4964/lionnet/inputs/train3D/C1-FB32...</td>\n      <td>7</td>\n      <td>1024</td>\n      <td>1024</td>\n    </tr>\n  </tbody>\n</table>\n</div>"
     },
     "execution_count": 137,
     "metadata": {},
     "output_type": "execute_result"
    }
   ],
   "source": [
    "# Small DF to test loops\n",
    "testdf = imgdf.loc[0:2].copy()\n",
    "testdf = testdf.reset_index(drop=True)\n",
    "testdf"
   ],
   "metadata": {
    "collapsed": false,
    "pycharm": {
     "name": "#%%\n"
    }
   }
  },
  {
   "cell_type": "code",
   "execution_count": null,
   "outputs": [],
   "source": [
    "# Single image df\n",
    "singledf = imgdf.loc[[2]].copy()\n",
    "singledf = singledf.reset_index(drop=True)\n",
    "# singledf.loc[0]['imgfolder']\n",
    "singledf"
   ],
   "metadata": {
    "collapsed": false,
    "pycharm": {
     "name": "#%%\n"
    }
   }
  },
  {
   "cell_type": "markdown",
   "source": [
    "## Large Comparison DF"
   ],
   "metadata": {
    "collapsed": false,
    "pycharm": {
     "name": "#%% md\n"
    }
   }
  },
  {
   "cell_type": "code",
   "execution_count": 9,
   "outputs": [
    {
     "data": {
      "text/plain": "                imgname                                            imgfile  \\\n0   C1-FB323A_CSC_Rd1_1  /scratch/ns4964/lionnet/inputs/train3D/C1-FB32...   \n1   C1-FB323A_CSC_Rd1_1  /scratch/ns4964/lionnet/inputs/train3D/C1-FB32...   \n2   C1-FB323A_CSC_Rd1_1  /scratch/ns4964/lionnet/inputs/train3D/C1-FB32...   \n3   C1-FB323A_CSC_Rd1_1  /scratch/ns4964/lionnet/inputs/train3D/C1-FB32...   \n4  C1-FB323A_CSC_Rd1_10  /scratch/ns4964/lionnet/inputs/train3D/C1-FB32...   \n5  C1-FB323A_CSC_Rd1_10  /scratch/ns4964/lionnet/inputs/train3D/C1-FB32...   \n\n                                           labelpath added  \n0  /scratch/ns4964/lionnet/inputs/train3D/C1-FB32...     0  \n1  /scratch/ns4964/lionnet/inputs/train3D/C1-FB32...     1  \n2  /scratch/ns4964/lionnet/inputs/train3D/C1-FB32...     2  \n3  /scratch/ns4964/lionnet/inputs/train3D/C1-FB32...     3  \n4  /scratch/ns4964/lionnet/inputs/train3D/C1-FB32...     0  \n5  /scratch/ns4964/lionnet/inputs/train3D/C1-FB32...     1  ",
      "text/html": "<div>\n<style scoped>\n    .dataframe tbody tr th:only-of-type {\n        vertical-align: middle;\n    }\n\n    .dataframe tbody tr th {\n        vertical-align: top;\n    }\n\n    .dataframe thead th {\n        text-align: right;\n    }\n</style>\n<table border=\"1\" class=\"dataframe\">\n  <thead>\n    <tr style=\"text-align: right;\">\n      <th></th>\n      <th>imgname</th>\n      <th>imgfile</th>\n      <th>labelpath</th>\n      <th>added</th>\n    </tr>\n  </thead>\n  <tbody>\n    <tr>\n      <th>0</th>\n      <td>C1-FB323A_CSC_Rd1_1</td>\n      <td>/scratch/ns4964/lionnet/inputs/train3D/C1-FB32...</td>\n      <td>/scratch/ns4964/lionnet/inputs/train3D/C1-FB32...</td>\n      <td>0</td>\n    </tr>\n    <tr>\n      <th>1</th>\n      <td>C1-FB323A_CSC_Rd1_1</td>\n      <td>/scratch/ns4964/lionnet/inputs/train3D/C1-FB32...</td>\n      <td>/scratch/ns4964/lionnet/inputs/train3D/C1-FB32...</td>\n      <td>1</td>\n    </tr>\n    <tr>\n      <th>2</th>\n      <td>C1-FB323A_CSC_Rd1_1</td>\n      <td>/scratch/ns4964/lionnet/inputs/train3D/C1-FB32...</td>\n      <td>/scratch/ns4964/lionnet/inputs/train3D/C1-FB32...</td>\n      <td>2</td>\n    </tr>\n    <tr>\n      <th>3</th>\n      <td>C1-FB323A_CSC_Rd1_1</td>\n      <td>/scratch/ns4964/lionnet/inputs/train3D/C1-FB32...</td>\n      <td>/scratch/ns4964/lionnet/inputs/train3D/C1-FB32...</td>\n      <td>3</td>\n    </tr>\n    <tr>\n      <th>4</th>\n      <td>C1-FB323A_CSC_Rd1_10</td>\n      <td>/scratch/ns4964/lionnet/inputs/train3D/C1-FB32...</td>\n      <td>/scratch/ns4964/lionnet/inputs/train3D/C1-FB32...</td>\n      <td>0</td>\n    </tr>\n    <tr>\n      <th>5</th>\n      <td>C1-FB323A_CSC_Rd1_10</td>\n      <td>/scratch/ns4964/lionnet/inputs/train3D/C1-FB32...</td>\n      <td>/scratch/ns4964/lionnet/inputs/train3D/C1-FB32...</td>\n      <td>1</td>\n    </tr>\n  </tbody>\n</table>\n</div>"
     },
     "execution_count": 9,
     "metadata": {},
     "output_type": "execute_result"
    }
   ],
   "source": [
    "compdf = imgdf.copy()\n",
    "#For Labels\n",
    "# compdf = compdf.drop(['imagepath','gappath','zlayers','x','y'],axis=1)\n",
    "# For Images\n",
    "compdf = compdf.drop(['gappath','zlayers','x','y'],axis=1)\n",
    "\n",
    "compdf.columns = ['imgname','imgpath','maskpath']\n",
    "\n",
    "compdf.insert(3,'0',\"\")\n",
    "compdf.insert(4,'1',\"\")\n",
    "compdf.insert(5,'2',\"\")\n",
    "compdf.insert(6,'3',\"\")\n",
    "\n",
    "compdf = pd.melt(compdf,id_vars=['imgname','imgpath','maskpath'])\n",
    "compdf = compdf.drop(['value'], axis = 1)\n",
    "\n",
    "compdf.columns = ['imgname','imgfile','labelpath', 'added']\n",
    "compdf = compdf.sort_values(by=['imgname','added'])\n",
    "compdf = compdf.reset_index(drop=True)\n",
    "\n",
    "compdf[0:6]"
   ],
   "metadata": {
    "collapsed": false,
    "pycharm": {
     "name": "#%%\n"
    }
   }
  },
  {
   "cell_type": "code",
   "execution_count": 10,
   "outputs": [
    {
     "name": "stdout",
     "output_type": "stream",
     "text": [
      "C1-FB323A_CSC_Rd1_1 1\n"
     ]
    },
    {
     "data": {
      "text/plain": "'/scratch/ns4964/lionnet/output/Interpolated/C1-FB323A_CSC_Rd1_1-image-addedinterplayers-1.tiff'"
     },
     "execution_count": 10,
     "metadata": {},
     "output_type": "execute_result"
    }
   ],
   "source": [
    "os.chdir(INTERPDIR)\n",
    "imname = compdf.loc[0]['imgname']\n",
    "added = compdf.loc[1]['added']\n",
    "print(imname,added)\n",
    "glob.glob(imname+\"-image*-\"+added+\"*\")\n",
    "os.path.join(INTERPDIR, glob.glob(imname+\"-*image*-\"+added+\"*\")[0])"
   ],
   "metadata": {
    "collapsed": false,
    "pycharm": {
     "name": "#%%\n"
    }
   }
  },
  {
   "cell_type": "code",
   "execution_count": 11,
   "outputs": [
    {
     "data": {
      "text/plain": "                 imgname                                            imgfile  \\\n0    C1-FB323A_CSC_Rd1_1  /scratch/ns4964/lionnet/inputs/train3D/C1-FB32...   \n1    C1-FB323A_CSC_Rd1_1  /scratch/ns4964/lionnet/output/Interpolated/C1...   \n2    C1-FB323A_CSC_Rd1_1  /scratch/ns4964/lionnet/output/Interpolated/C1...   \n3    C1-FB323A_CSC_Rd1_1  /scratch/ns4964/lionnet/output/Interpolated/C1...   \n4   C1-FB323A_CSC_Rd1_10  /scratch/ns4964/lionnet/inputs/train3D/C1-FB32...   \n..                   ...                                                ...   \n87   C1-FB323A_CSC_Rd1_8  /scratch/ns4964/lionnet/output/Interpolated/C1...   \n88   C1-FB323A_CSC_Rd1_9  /scratch/ns4964/lionnet/inputs/train3D/C1-FB32...   \n89   C1-FB323A_CSC_Rd1_9  /scratch/ns4964/lionnet/output/Interpolated/C1...   \n90   C1-FB323A_CSC_Rd1_9  /scratch/ns4964/lionnet/output/Interpolated/C1...   \n91   C1-FB323A_CSC_Rd1_9  /scratch/ns4964/lionnet/output/Interpolated/C1...   \n\n                                            labelpath added  \n0   /scratch/ns4964/lionnet/inputs/train3D/C1-FB32...     0  \n1   /scratch/ns4964/lionnet/output/Interpolated/C1...     1  \n2   /scratch/ns4964/lionnet/output/Interpolated/C1...     2  \n3   /scratch/ns4964/lionnet/output/Interpolated/C1...     3  \n4   /scratch/ns4964/lionnet/inputs/train3D/C1-FB32...     0  \n..                                                ...   ...  \n87  /scratch/ns4964/lionnet/output/Interpolated/C1...     3  \n88  /scratch/ns4964/lionnet/inputs/train3D/C1-FB32...     0  \n89  /scratch/ns4964/lionnet/output/Interpolated/C1...     1  \n90  /scratch/ns4964/lionnet/output/Interpolated/C1...     2  \n91  /scratch/ns4964/lionnet/output/Interpolated/C1...     3  \n\n[92 rows x 4 columns]",
      "text/html": "<div>\n<style scoped>\n    .dataframe tbody tr th:only-of-type {\n        vertical-align: middle;\n    }\n\n    .dataframe tbody tr th {\n        vertical-align: top;\n    }\n\n    .dataframe thead th {\n        text-align: right;\n    }\n</style>\n<table border=\"1\" class=\"dataframe\">\n  <thead>\n    <tr style=\"text-align: right;\">\n      <th></th>\n      <th>imgname</th>\n      <th>imgfile</th>\n      <th>labelpath</th>\n      <th>added</th>\n    </tr>\n  </thead>\n  <tbody>\n    <tr>\n      <th>0</th>\n      <td>C1-FB323A_CSC_Rd1_1</td>\n      <td>/scratch/ns4964/lionnet/inputs/train3D/C1-FB32...</td>\n      <td>/scratch/ns4964/lionnet/inputs/train3D/C1-FB32...</td>\n      <td>0</td>\n    </tr>\n    <tr>\n      <th>1</th>\n      <td>C1-FB323A_CSC_Rd1_1</td>\n      <td>/scratch/ns4964/lionnet/output/Interpolated/C1...</td>\n      <td>/scratch/ns4964/lionnet/output/Interpolated/C1...</td>\n      <td>1</td>\n    </tr>\n    <tr>\n      <th>2</th>\n      <td>C1-FB323A_CSC_Rd1_1</td>\n      <td>/scratch/ns4964/lionnet/output/Interpolated/C1...</td>\n      <td>/scratch/ns4964/lionnet/output/Interpolated/C1...</td>\n      <td>2</td>\n    </tr>\n    <tr>\n      <th>3</th>\n      <td>C1-FB323A_CSC_Rd1_1</td>\n      <td>/scratch/ns4964/lionnet/output/Interpolated/C1...</td>\n      <td>/scratch/ns4964/lionnet/output/Interpolated/C1...</td>\n      <td>3</td>\n    </tr>\n    <tr>\n      <th>4</th>\n      <td>C1-FB323A_CSC_Rd1_10</td>\n      <td>/scratch/ns4964/lionnet/inputs/train3D/C1-FB32...</td>\n      <td>/scratch/ns4964/lionnet/inputs/train3D/C1-FB32...</td>\n      <td>0</td>\n    </tr>\n    <tr>\n      <th>...</th>\n      <td>...</td>\n      <td>...</td>\n      <td>...</td>\n      <td>...</td>\n    </tr>\n    <tr>\n      <th>87</th>\n      <td>C1-FB323A_CSC_Rd1_8</td>\n      <td>/scratch/ns4964/lionnet/output/Interpolated/C1...</td>\n      <td>/scratch/ns4964/lionnet/output/Interpolated/C1...</td>\n      <td>3</td>\n    </tr>\n    <tr>\n      <th>88</th>\n      <td>C1-FB323A_CSC_Rd1_9</td>\n      <td>/scratch/ns4964/lionnet/inputs/train3D/C1-FB32...</td>\n      <td>/scratch/ns4964/lionnet/inputs/train3D/C1-FB32...</td>\n      <td>0</td>\n    </tr>\n    <tr>\n      <th>89</th>\n      <td>C1-FB323A_CSC_Rd1_9</td>\n      <td>/scratch/ns4964/lionnet/output/Interpolated/C1...</td>\n      <td>/scratch/ns4964/lionnet/output/Interpolated/C1...</td>\n      <td>1</td>\n    </tr>\n    <tr>\n      <th>90</th>\n      <td>C1-FB323A_CSC_Rd1_9</td>\n      <td>/scratch/ns4964/lionnet/output/Interpolated/C1...</td>\n      <td>/scratch/ns4964/lionnet/output/Interpolated/C1...</td>\n      <td>2</td>\n    </tr>\n    <tr>\n      <th>91</th>\n      <td>C1-FB323A_CSC_Rd1_9</td>\n      <td>/scratch/ns4964/lionnet/output/Interpolated/C1...</td>\n      <td>/scratch/ns4964/lionnet/output/Interpolated/C1...</td>\n      <td>3</td>\n    </tr>\n  </tbody>\n</table>\n<p>92 rows × 4 columns</p>\n</div>"
     },
     "execution_count": 11,
     "metadata": {},
     "output_type": "execute_result"
    }
   ],
   "source": [
    "os.chdir(INTERPDIR)\n",
    "for i in compdf.index:\n",
    "    imname = compdf.imgname.iloc[i]\n",
    "    added = compdf.added.iloc[i]\n",
    "    if added == '0':\n",
    "        continue\n",
    "    compdf.at[i,'imgfile'] = os.path.join(INTERPDIR, glob.glob(imname+\"-*image*-\"+added+\"*\")[0])\n",
    "    compdf.at[i,'labelpath'] = os.path.join(INTERPDIR, glob.glob(imname+\"-*mask*-\"+added+\"*\")[0])\n",
    "compdf"
   ],
   "metadata": {
    "collapsed": false,
    "pycharm": {
     "name": "#%%\n"
    }
   }
  },
  {
   "cell_type": "code",
   "execution_count": 142,
   "outputs": [
    {
     "data": {
      "text/plain": "               imgname                                            imgfile  \\\n0  C1-FB323A_CSC_Rd1_1  /scratch/ns4964/lionnet/inputs/train3D/C1-FB32...   \n1  C1-FB323A_CSC_Rd1_1  /scratch/ns4964/lionnet/output/Interpolated/C1...   \n2  C1-FB323A_CSC_Rd1_1  /scratch/ns4964/lionnet/output/Interpolated/C1...   \n3  C1-FB323A_CSC_Rd1_1  /scratch/ns4964/lionnet/output/Interpolated/C1...   \n\n                                           labelpath added  \n0  /scratch/ns4964/lionnet/inputs/train3D/C1-FB32...     0  \n1  /scratch/ns4964/lionnet/output/Interpolated/C1...     1  \n2  /scratch/ns4964/lionnet/output/Interpolated/C1...     2  \n3  /scratch/ns4964/lionnet/output/Interpolated/C1...     3  ",
      "text/html": "<div>\n<style scoped>\n    .dataframe tbody tr th:only-of-type {\n        vertical-align: middle;\n    }\n\n    .dataframe tbody tr th {\n        vertical-align: top;\n    }\n\n    .dataframe thead th {\n        text-align: right;\n    }\n</style>\n<table border=\"1\" class=\"dataframe\">\n  <thead>\n    <tr style=\"text-align: right;\">\n      <th></th>\n      <th>imgname</th>\n      <th>imgfile</th>\n      <th>labelpath</th>\n      <th>added</th>\n    </tr>\n  </thead>\n  <tbody>\n    <tr>\n      <th>0</th>\n      <td>C1-FB323A_CSC_Rd1_1</td>\n      <td>/scratch/ns4964/lionnet/inputs/train3D/C1-FB32...</td>\n      <td>/scratch/ns4964/lionnet/inputs/train3D/C1-FB32...</td>\n      <td>0</td>\n    </tr>\n    <tr>\n      <th>1</th>\n      <td>C1-FB323A_CSC_Rd1_1</td>\n      <td>/scratch/ns4964/lionnet/output/Interpolated/C1...</td>\n      <td>/scratch/ns4964/lionnet/output/Interpolated/C1...</td>\n      <td>1</td>\n    </tr>\n    <tr>\n      <th>2</th>\n      <td>C1-FB323A_CSC_Rd1_1</td>\n      <td>/scratch/ns4964/lionnet/output/Interpolated/C1...</td>\n      <td>/scratch/ns4964/lionnet/output/Interpolated/C1...</td>\n      <td>2</td>\n    </tr>\n    <tr>\n      <th>3</th>\n      <td>C1-FB323A_CSC_Rd1_1</td>\n      <td>/scratch/ns4964/lionnet/output/Interpolated/C1...</td>\n      <td>/scratch/ns4964/lionnet/output/Interpolated/C1...</td>\n      <td>3</td>\n    </tr>\n  </tbody>\n</table>\n</div>"
     },
     "execution_count": 142,
     "metadata": {},
     "output_type": "execute_result"
    }
   ],
   "source": [
    "# Single image df\n",
    "singledf = compdf.loc[0:3].copy()\n",
    "singledf = singledf.reset_index(drop=True)\n",
    "# singledf.loc[0]['imgfolder']\n",
    "singledf"
   ],
   "metadata": {
    "collapsed": false,
    "pycharm": {
     "name": "#%%\n"
    }
   }
  },
  {
   "cell_type": "markdown",
   "source": [
    "# Apply Mesmer"
   ],
   "metadata": {
    "collapsed": false,
    "pycharm": {
     "name": "#%% md\n"
    }
   }
  },
  {
   "cell_type": "code",
   "execution_count": null,
   "outputs": [],
   "source": [
    "run = True # 1hr for all images\n",
    "run = False\n",
    "\n",
    "saveims = True\n",
    "saveims = False\n",
    "\n",
    "df = singledf\n",
    "# df=testdf\n",
    "# df=imgdf\n",
    "df = compdf\n",
    "\n",
    "\n",
    "if run:\n",
    "    start_time = time.time()\n",
    "    for i in df.index:\n",
    "        imgname = df.iloc[i]['imgname']\n",
    "        imgfile = df.iloc[i]['imgfile']\n",
    "        fakemem = df.iloc[i]['labelpath']\n",
    "        addedlayers = df.iloc[i]['added']\n",
    "\n",
    "        # for running Mesmer\n",
    "        nuc_channel = imread(imgfile, plugin='tifffile')\n",
    "        mem_channel = imread(fakemem, plugin='tifffile')\n",
    "        if len(nuc_channel.shape) == 4:\n",
    "            nuc_channel = color.rgb2gray(nuc_channel)\n",
    "        # Required to have 4 dimensions: [batch, x, y, channel], with nuclear channel first and cytoplasmic channel second.\"\n",
    "        im = np.stack((nuc_channel, mem_channel), axis=-1)\n",
    "        app = Mesmer()\n",
    "        meslabel = app.predict(im,image_mpp = 0.175,compartment='nuclear')\n",
    "        meslabel = meslabel[...,0]\n",
    "        meslabel = (meslabel>0)\n",
    "\n",
    "        if saveims:\n",
    "            os.chdir(OUTDIR)\n",
    "            mesoutname = imgname+\"-\"+\"mesmask-\"+\"interpzs-\"+str(addedlayers)+'.tiff'\n",
    "\n",
    "            pilimages = []\n",
    "            for j in range(meslabel.shape[0]):\n",
    "                new = Image.fromarray(meslabel[j])\n",
    "                pilimages.append(new)\n",
    "            pilimages[0].save(mesoutname,format='TIFF',save_all=True,append_images=pilimages[1:])\n"
   ],
   "metadata": {
    "collapsed": false,
    "pycharm": {
     "name": "#%%\n",
     "is_executing": true
    }
   }
  },
  {
   "cell_type": "code",
   "execution_count": 150,
   "outputs": [
    {
     "name": "stdout",
     "output_type": "stream",
     "text": [
      "--- 3475.0 seconds for 92 file(s) ---\n"
     ]
    }
   ],
   "source": [
    "print(\"--- %s seconds for %s file(s) ---\" % (round((time.time() - start_time),0),len(df)))"
   ],
   "metadata": {
    "collapsed": false,
    "pycharm": {
     "name": "#%%\n"
    }
   }
  },
  {
   "cell_type": "code",
   "execution_count": 147,
   "outputs": [
    {
     "name": "stdout",
     "output_type": "stream",
     "text": [
      "0 C1-FB323A_CSC_Rd1_1 0\n",
      "1 C1-FB323A_CSC_Rd1_1 1\n",
      "2 C1-FB323A_CSC_Rd1_1 2\n",
      "3 C1-FB323A_CSC_Rd1_1 3\n"
     ]
    }
   ],
   "source": [
    "for i in df.index:\n",
    "    imgname = df.iloc[i]['imgname']\n",
    "    imgfile = df.iloc[i]['imgfile']\n",
    "    fakemem = df.iloc[i]['labelpath']\n",
    "    addedlayers = df.iloc[i]['added']\n",
    "    print(i, imgname, addedlayers)"
   ],
   "metadata": {
    "collapsed": false,
    "pycharm": {
     "name": "#%%\n"
    }
   }
  },
  {
   "cell_type": "code",
   "execution_count": 151,
   "outputs": [],
   "source": [
    "# len(nuc_channel.shape)\n",
    "# mem_channel.shape"
   ],
   "metadata": {
    "collapsed": false,
    "pycharm": {
     "name": "#%%\n"
    }
   }
  },
  {
   "cell_type": "code",
   "execution_count": null,
   "outputs": [],
   "source": [
    "# a = color.rgb2gray(nuc_channel)\n",
    "# a.shape\n",
    "# showtif(a)"
   ],
   "metadata": {
    "collapsed": false,
    "pycharm": {
     "name": "#%%\n"
    }
   }
  },
  {
   "cell_type": "markdown",
   "source": [
    "# Comparisons"
   ],
   "metadata": {
    "collapsed": false,
    "pycharm": {
     "name": "#%% md\n"
    }
   }
  },
  {
   "cell_type": "markdown",
   "source": [
    "## Make df for comapring all images"
   ],
   "metadata": {
    "collapsed": false,
    "pycharm": {
     "name": "#%% md\n"
    }
   }
  },
  {
   "cell_type": "code",
   "execution_count": 152,
   "outputs": [
    {
     "data": {
      "text/plain": "92"
     },
     "execution_count": 152,
     "metadata": {},
     "output_type": "execute_result"
    }
   ],
   "source": [
    "os.chdir(OUTDIR)\n",
    "interptiffs = []\n",
    "for file in os.listdir():\n",
    "    if os.path.isdir(file):\n",
    "        continue\n",
    "    interptiffs.append(file)\n",
    "# interptiffs = sort_nicely(interptiffs)\n",
    "len(interptiffs)"
   ],
   "metadata": {
    "collapsed": false,
    "pycharm": {
     "name": "#%%\n"
    }
   }
  },
  {
   "cell_type": "code",
   "execution_count": 153,
   "outputs": [],
   "source": [
    "fulltiffs = []\n",
    "for file in interptiffs:\n",
    "    fulltiffs.append(os.path.join(OUTDIR,file))\n",
    "interptiffs = fulltiffs"
   ],
   "metadata": {
    "collapsed": false,
    "pycharm": {
     "name": "#%%\n"
    }
   }
  },
  {
   "cell_type": "code",
   "execution_count": 154,
   "outputs": [
    {
     "data": {
      "text/plain": "   imgname                                           maskfile added  method\n0           /scratch/ns4964/lionnet/output/Mesmer/train3d/...        mesmer\n1           /scratch/ns4964/lionnet/output/Mesmer/train3d/...        mesmer\n2           /scratch/ns4964/lionnet/output/Mesmer/train3d/...        mesmer\n3           /scratch/ns4964/lionnet/output/Mesmer/train3d/...        mesmer\n4           /scratch/ns4964/lionnet/output/Mesmer/train3d/...        mesmer\n..     ...                                                ...   ...     ...\n87          /scratch/ns4964/lionnet/output/Mesmer/train3d/...        mesmer\n88          /scratch/ns4964/lionnet/output/Mesmer/train3d/...        mesmer\n89          /scratch/ns4964/lionnet/output/Mesmer/train3d/...        mesmer\n90          /scratch/ns4964/lionnet/output/Mesmer/train3d/...        mesmer\n91          /scratch/ns4964/lionnet/output/Mesmer/train3d/...        mesmer\n\n[92 rows x 4 columns]",
      "text/html": "<div>\n<style scoped>\n    .dataframe tbody tr th:only-of-type {\n        vertical-align: middle;\n    }\n\n    .dataframe tbody tr th {\n        vertical-align: top;\n    }\n\n    .dataframe thead th {\n        text-align: right;\n    }\n</style>\n<table border=\"1\" class=\"dataframe\">\n  <thead>\n    <tr style=\"text-align: right;\">\n      <th></th>\n      <th>imgname</th>\n      <th>maskfile</th>\n      <th>added</th>\n      <th>method</th>\n    </tr>\n  </thead>\n  <tbody>\n    <tr>\n      <th>0</th>\n      <td></td>\n      <td>/scratch/ns4964/lionnet/output/Mesmer/train3d/...</td>\n      <td></td>\n      <td>mesmer</td>\n    </tr>\n    <tr>\n      <th>1</th>\n      <td></td>\n      <td>/scratch/ns4964/lionnet/output/Mesmer/train3d/...</td>\n      <td></td>\n      <td>mesmer</td>\n    </tr>\n    <tr>\n      <th>2</th>\n      <td></td>\n      <td>/scratch/ns4964/lionnet/output/Mesmer/train3d/...</td>\n      <td></td>\n      <td>mesmer</td>\n    </tr>\n    <tr>\n      <th>3</th>\n      <td></td>\n      <td>/scratch/ns4964/lionnet/output/Mesmer/train3d/...</td>\n      <td></td>\n      <td>mesmer</td>\n    </tr>\n    <tr>\n      <th>4</th>\n      <td></td>\n      <td>/scratch/ns4964/lionnet/output/Mesmer/train3d/...</td>\n      <td></td>\n      <td>mesmer</td>\n    </tr>\n    <tr>\n      <th>...</th>\n      <td>...</td>\n      <td>...</td>\n      <td>...</td>\n      <td>...</td>\n    </tr>\n    <tr>\n      <th>87</th>\n      <td></td>\n      <td>/scratch/ns4964/lionnet/output/Mesmer/train3d/...</td>\n      <td></td>\n      <td>mesmer</td>\n    </tr>\n    <tr>\n      <th>88</th>\n      <td></td>\n      <td>/scratch/ns4964/lionnet/output/Mesmer/train3d/...</td>\n      <td></td>\n      <td>mesmer</td>\n    </tr>\n    <tr>\n      <th>89</th>\n      <td></td>\n      <td>/scratch/ns4964/lionnet/output/Mesmer/train3d/...</td>\n      <td></td>\n      <td>mesmer</td>\n    </tr>\n    <tr>\n      <th>90</th>\n      <td></td>\n      <td>/scratch/ns4964/lionnet/output/Mesmer/train3d/...</td>\n      <td></td>\n      <td>mesmer</td>\n    </tr>\n    <tr>\n      <th>91</th>\n      <td></td>\n      <td>/scratch/ns4964/lionnet/output/Mesmer/train3d/...</td>\n      <td></td>\n      <td>mesmer</td>\n    </tr>\n  </tbody>\n</table>\n<p>92 rows × 4 columns</p>\n</div>"
     },
     "execution_count": 154,
     "metadata": {},
     "output_type": "execute_result"
    }
   ],
   "source": [
    "mesdf = pd.DataFrame(interptiffs, columns=['maskfile'])\n",
    "mesdf.insert(0,'imgname','')\n",
    "mesdf.insert(len(mesdf.columns),'added','')\n",
    "mesdf.insert(len(mesdf.columns),'method','mesmer')\n",
    "mesdf"
   ],
   "metadata": {
    "collapsed": false,
    "pycharm": {
     "name": "#%%\n"
    }
   }
  },
  {
   "cell_type": "code",
   "execution_count": 155,
   "outputs": [
    {
     "data": {
      "text/plain": "'/scratch/ns4964/lionnet/output/Mesmer/train3d/C1-FB323A_CSC_Rd1_4-mesmask-interpzs-1.tiff'"
     },
     "execution_count": 155,
     "metadata": {},
     "output_type": "execute_result"
    }
   ],
   "source": [
    "testfile = interptiffs[0]\n",
    "testfile"
   ],
   "metadata": {
    "collapsed": false,
    "pycharm": {
     "name": "#%%\n"
    }
   }
  },
  {
   "cell_type": "code",
   "execution_count": 156,
   "outputs": [
    {
     "data": {
      "text/plain": "'C1-FB323A_CSC_Rd1_4-mesmask-interpzs-1.tiff'"
     },
     "execution_count": 156,
     "metadata": {},
     "output_type": "execute_result"
    }
   ],
   "source": [
    "testfile.split(\"-\")[-1].split(\".\")[0]\n",
    "testfile.split(\"/\")[-1]"
   ],
   "metadata": {
    "collapsed": false,
    "pycharm": {
     "name": "#%%\n"
    }
   }
  },
  {
   "cell_type": "code",
   "execution_count": 157,
   "outputs": [],
   "source": [
    "imgnames = []\n",
    "for file in interptiffs:\n",
    "    local = file.split(\"/\")[-1]\n",
    "    imgname = local.split(\"-\")[0]+\"-\"+local.split(\"-\")[1]\n",
    "    imgnames.append(local.split(\"-\")[0]+\"-\"+local.split(\"-\")[1])"
   ],
   "metadata": {
    "collapsed": false,
    "pycharm": {
     "name": "#%%\n"
    }
   }
  },
  {
   "cell_type": "code",
   "execution_count": 158,
   "outputs": [
    {
     "data": {
      "text/plain": "                 imgname                                           maskfile  \\\n0    C1-FB323A_CSC_Rd1_4  /scratch/ns4964/lionnet/output/Mesmer/train3d/...   \n1    C1-FB323A_CSC_Rd1_1  /scratch/ns4964/lionnet/output/Mesmer/train3d/...   \n2   C1-FB323A_CSC_Rd1_19  /scratch/ns4964/lionnet/output/Mesmer/train3d/...   \n3   C1-FB323A_CSC_Rd1_14  /scratch/ns4964/lionnet/output/Mesmer/train3d/...   \n4    C1-FB323A_CSC_Rd1_5  /scratch/ns4964/lionnet/output/Mesmer/train3d/...   \n..                   ...                                                ...   \n87   C1-FB323A_CSC_Rd1_8  /scratch/ns4964/lionnet/output/Mesmer/train3d/...   \n88  C1-FB323A_CSC_Rd1_21  /scratch/ns4964/lionnet/output/Mesmer/train3d/...   \n89  C1-FB323A_CSC_Rd1_16  /scratch/ns4964/lionnet/output/Mesmer/train3d/...   \n90   C1-FB323A_CSC_Rd1_3  /scratch/ns4964/lionnet/output/Mesmer/train3d/...   \n91  C1-FB323A_CSC_Rd1_16  /scratch/ns4964/lionnet/output/Mesmer/train3d/...   \n\n   added  method  \n0      1  mesmer  \n1      2  mesmer  \n2      2  mesmer  \n3      0  mesmer  \n4      1  mesmer  \n..   ...     ...  \n87     1  mesmer  \n88     0  mesmer  \n89     3  mesmer  \n90     2  mesmer  \n91     1  mesmer  \n\n[92 rows x 4 columns]",
      "text/html": "<div>\n<style scoped>\n    .dataframe tbody tr th:only-of-type {\n        vertical-align: middle;\n    }\n\n    .dataframe tbody tr th {\n        vertical-align: top;\n    }\n\n    .dataframe thead th {\n        text-align: right;\n    }\n</style>\n<table border=\"1\" class=\"dataframe\">\n  <thead>\n    <tr style=\"text-align: right;\">\n      <th></th>\n      <th>imgname</th>\n      <th>maskfile</th>\n      <th>added</th>\n      <th>method</th>\n    </tr>\n  </thead>\n  <tbody>\n    <tr>\n      <th>0</th>\n      <td>C1-FB323A_CSC_Rd1_4</td>\n      <td>/scratch/ns4964/lionnet/output/Mesmer/train3d/...</td>\n      <td>1</td>\n      <td>mesmer</td>\n    </tr>\n    <tr>\n      <th>1</th>\n      <td>C1-FB323A_CSC_Rd1_1</td>\n      <td>/scratch/ns4964/lionnet/output/Mesmer/train3d/...</td>\n      <td>2</td>\n      <td>mesmer</td>\n    </tr>\n    <tr>\n      <th>2</th>\n      <td>C1-FB323A_CSC_Rd1_19</td>\n      <td>/scratch/ns4964/lionnet/output/Mesmer/train3d/...</td>\n      <td>2</td>\n      <td>mesmer</td>\n    </tr>\n    <tr>\n      <th>3</th>\n      <td>C1-FB323A_CSC_Rd1_14</td>\n      <td>/scratch/ns4964/lionnet/output/Mesmer/train3d/...</td>\n      <td>0</td>\n      <td>mesmer</td>\n    </tr>\n    <tr>\n      <th>4</th>\n      <td>C1-FB323A_CSC_Rd1_5</td>\n      <td>/scratch/ns4964/lionnet/output/Mesmer/train3d/...</td>\n      <td>1</td>\n      <td>mesmer</td>\n    </tr>\n    <tr>\n      <th>...</th>\n      <td>...</td>\n      <td>...</td>\n      <td>...</td>\n      <td>...</td>\n    </tr>\n    <tr>\n      <th>87</th>\n      <td>C1-FB323A_CSC_Rd1_8</td>\n      <td>/scratch/ns4964/lionnet/output/Mesmer/train3d/...</td>\n      <td>1</td>\n      <td>mesmer</td>\n    </tr>\n    <tr>\n      <th>88</th>\n      <td>C1-FB323A_CSC_Rd1_21</td>\n      <td>/scratch/ns4964/lionnet/output/Mesmer/train3d/...</td>\n      <td>0</td>\n      <td>mesmer</td>\n    </tr>\n    <tr>\n      <th>89</th>\n      <td>C1-FB323A_CSC_Rd1_16</td>\n      <td>/scratch/ns4964/lionnet/output/Mesmer/train3d/...</td>\n      <td>3</td>\n      <td>mesmer</td>\n    </tr>\n    <tr>\n      <th>90</th>\n      <td>C1-FB323A_CSC_Rd1_3</td>\n      <td>/scratch/ns4964/lionnet/output/Mesmer/train3d/...</td>\n      <td>2</td>\n      <td>mesmer</td>\n    </tr>\n    <tr>\n      <th>91</th>\n      <td>C1-FB323A_CSC_Rd1_16</td>\n      <td>/scratch/ns4964/lionnet/output/Mesmer/train3d/...</td>\n      <td>1</td>\n      <td>mesmer</td>\n    </tr>\n  </tbody>\n</table>\n<p>92 rows × 4 columns</p>\n</div>"
     },
     "execution_count": 158,
     "metadata": {},
     "output_type": "execute_result"
    }
   ],
   "source": [
    "for i in mesdf.index:\n",
    "    imgname = mesdf.loc[i]['maskfile'].split(\"/\")[-1].split(\"-\")[0]+\"-\"+mesdf.loc[i]['maskfile'].split(\"/\")[-1].split(\"-\")[1]\n",
    "    added = mesdf.loc[i]['maskfile'].split(\"-\")[-1].split(\".\")[0]\n",
    "    mesdf.at[i,'imgname'] = imgname\n",
    "    mesdf.at[i,'added'] = added\n",
    "mesdf"
   ],
   "metadata": {
    "collapsed": false,
    "pycharm": {
     "name": "#%%\n"
    }
   }
  },
  {
   "cell_type": "code",
   "execution_count": 159,
   "outputs": [
    {
     "data": {
      "text/plain": "                 imgname maskfile  added  method\n0    C1-FB323A_CSC_Rd1_4      NaN      0  manual\n1    C1-FB323A_CSC_Rd1_1      NaN      0  manual\n2   C1-FB323A_CSC_Rd1_19      NaN      0  manual\n3   C1-FB323A_CSC_Rd1_14      NaN      0  manual\n4    C1-FB323A_CSC_Rd1_5      NaN      0  manual\n5   C1-FB323A_CSC_Rd1_15      NaN      0  manual\n6   C1-FB323A_CSC_Rd1_18      NaN      0  manual\n7   C1-FB323A_CSC_Rd1_10      NaN      0  manual\n8   C1-FB323A_CSC_Rd1_16      NaN      0  manual\n9   C1-FB323A_CSC_Rd1_21      NaN      0  manual\n10   C1-FB323A_CSC_Rd1_2      NaN      0  manual\n11  C1-FB323A_CSC_Rd1_23      NaN      0  manual\n12  C1-FB323A_CSC_Rd1_20      NaN      0  manual\n13   C1-FB323A_CSC_Rd1_8      NaN      0  manual\n14   C1-FB323A_CSC_Rd1_9      NaN      0  manual\n15  C1-FB323A_CSC_Rd1_12      NaN      0  manual\n16   C1-FB323A_CSC_Rd1_6      NaN      0  manual\n17  C1-FB323A_CSC_Rd1_22      NaN      0  manual\n18  C1-FB323A_CSC_Rd1_13      NaN      0  manual\n19  C1-FB323A_CSC_Rd1_17      NaN      0  manual\n20   C1-FB323A_CSC_Rd1_7      NaN      0  manual\n21  C1-FB323A_CSC_Rd1_11      NaN      0  manual\n22   C1-FB323A_CSC_Rd1_3      NaN      0  manual",
      "text/html": "<div>\n<style scoped>\n    .dataframe tbody tr th:only-of-type {\n        vertical-align: middle;\n    }\n\n    .dataframe tbody tr th {\n        vertical-align: top;\n    }\n\n    .dataframe thead th {\n        text-align: right;\n    }\n</style>\n<table border=\"1\" class=\"dataframe\">\n  <thead>\n    <tr style=\"text-align: right;\">\n      <th></th>\n      <th>imgname</th>\n      <th>maskfile</th>\n      <th>added</th>\n      <th>method</th>\n    </tr>\n  </thead>\n  <tbody>\n    <tr>\n      <th>0</th>\n      <td>C1-FB323A_CSC_Rd1_4</td>\n      <td>NaN</td>\n      <td>0</td>\n      <td>manual</td>\n    </tr>\n    <tr>\n      <th>1</th>\n      <td>C1-FB323A_CSC_Rd1_1</td>\n      <td>NaN</td>\n      <td>0</td>\n      <td>manual</td>\n    </tr>\n    <tr>\n      <th>2</th>\n      <td>C1-FB323A_CSC_Rd1_19</td>\n      <td>NaN</td>\n      <td>0</td>\n      <td>manual</td>\n    </tr>\n    <tr>\n      <th>3</th>\n      <td>C1-FB323A_CSC_Rd1_14</td>\n      <td>NaN</td>\n      <td>0</td>\n      <td>manual</td>\n    </tr>\n    <tr>\n      <th>4</th>\n      <td>C1-FB323A_CSC_Rd1_5</td>\n      <td>NaN</td>\n      <td>0</td>\n      <td>manual</td>\n    </tr>\n    <tr>\n      <th>5</th>\n      <td>C1-FB323A_CSC_Rd1_15</td>\n      <td>NaN</td>\n      <td>0</td>\n      <td>manual</td>\n    </tr>\n    <tr>\n      <th>6</th>\n      <td>C1-FB323A_CSC_Rd1_18</td>\n      <td>NaN</td>\n      <td>0</td>\n      <td>manual</td>\n    </tr>\n    <tr>\n      <th>7</th>\n      <td>C1-FB323A_CSC_Rd1_10</td>\n      <td>NaN</td>\n      <td>0</td>\n      <td>manual</td>\n    </tr>\n    <tr>\n      <th>8</th>\n      <td>C1-FB323A_CSC_Rd1_16</td>\n      <td>NaN</td>\n      <td>0</td>\n      <td>manual</td>\n    </tr>\n    <tr>\n      <th>9</th>\n      <td>C1-FB323A_CSC_Rd1_21</td>\n      <td>NaN</td>\n      <td>0</td>\n      <td>manual</td>\n    </tr>\n    <tr>\n      <th>10</th>\n      <td>C1-FB323A_CSC_Rd1_2</td>\n      <td>NaN</td>\n      <td>0</td>\n      <td>manual</td>\n    </tr>\n    <tr>\n      <th>11</th>\n      <td>C1-FB323A_CSC_Rd1_23</td>\n      <td>NaN</td>\n      <td>0</td>\n      <td>manual</td>\n    </tr>\n    <tr>\n      <th>12</th>\n      <td>C1-FB323A_CSC_Rd1_20</td>\n      <td>NaN</td>\n      <td>0</td>\n      <td>manual</td>\n    </tr>\n    <tr>\n      <th>13</th>\n      <td>C1-FB323A_CSC_Rd1_8</td>\n      <td>NaN</td>\n      <td>0</td>\n      <td>manual</td>\n    </tr>\n    <tr>\n      <th>14</th>\n      <td>C1-FB323A_CSC_Rd1_9</td>\n      <td>NaN</td>\n      <td>0</td>\n      <td>manual</td>\n    </tr>\n    <tr>\n      <th>15</th>\n      <td>C1-FB323A_CSC_Rd1_12</td>\n      <td>NaN</td>\n      <td>0</td>\n      <td>manual</td>\n    </tr>\n    <tr>\n      <th>16</th>\n      <td>C1-FB323A_CSC_Rd1_6</td>\n      <td>NaN</td>\n      <td>0</td>\n      <td>manual</td>\n    </tr>\n    <tr>\n      <th>17</th>\n      <td>C1-FB323A_CSC_Rd1_22</td>\n      <td>NaN</td>\n      <td>0</td>\n      <td>manual</td>\n    </tr>\n    <tr>\n      <th>18</th>\n      <td>C1-FB323A_CSC_Rd1_13</td>\n      <td>NaN</td>\n      <td>0</td>\n      <td>manual</td>\n    </tr>\n    <tr>\n      <th>19</th>\n      <td>C1-FB323A_CSC_Rd1_17</td>\n      <td>NaN</td>\n      <td>0</td>\n      <td>manual</td>\n    </tr>\n    <tr>\n      <th>20</th>\n      <td>C1-FB323A_CSC_Rd1_7</td>\n      <td>NaN</td>\n      <td>0</td>\n      <td>manual</td>\n    </tr>\n    <tr>\n      <th>21</th>\n      <td>C1-FB323A_CSC_Rd1_11</td>\n      <td>NaN</td>\n      <td>0</td>\n      <td>manual</td>\n    </tr>\n    <tr>\n      <th>22</th>\n      <td>C1-FB323A_CSC_Rd1_3</td>\n      <td>NaN</td>\n      <td>0</td>\n      <td>manual</td>\n    </tr>\n  </tbody>\n</table>\n</div>"
     },
     "execution_count": 159,
     "metadata": {},
     "output_type": "execute_result"
    }
   ],
   "source": [
    "# Pull the paths to the GT Masks for comparison.\n",
    "pathstoadd = pd.DataFrame(mesdf.imgname, columns=mesdf.columns)\n",
    "pathstoadd = pathstoadd.drop_duplicates()\n",
    "pathstoadd = pathstoadd.reset_index(drop=True)\n",
    "pathstoadd.added = 0\n",
    "pathstoadd.method = 'manual'\n",
    "pathstoadd"
   ],
   "metadata": {
    "collapsed": false,
    "pycharm": {
     "name": "#%%\n"
    }
   }
  },
  {
   "cell_type": "code",
   "execution_count": 160,
   "outputs": [
    {
     "data": {
      "text/plain": "'/scratch/ns4964/lionnet/inputs/train3D/C1-FB323A_CSC_Rd1_4/label.tif'"
     },
     "execution_count": 160,
     "metadata": {},
     "output_type": "execute_result"
    }
   ],
   "source": [
    "test = pathstoadd.iloc[0].imgname\n",
    "imgdf[imgdf.imgfolder==test].labelpath.to_list()[0]"
   ],
   "metadata": {
    "collapsed": false,
    "pycharm": {
     "name": "#%%\n"
    }
   }
  },
  {
   "cell_type": "code",
   "execution_count": 161,
   "outputs": [
    {
     "data": {
      "text/plain": "                 imgname                                           maskfile  \\\n0    C1-FB323A_CSC_Rd1_4  /scratch/ns4964/lionnet/inputs/train3D/C1-FB32...   \n1    C1-FB323A_CSC_Rd1_1  /scratch/ns4964/lionnet/inputs/train3D/C1-FB32...   \n2   C1-FB323A_CSC_Rd1_19  /scratch/ns4964/lionnet/inputs/train3D/C1-FB32...   \n3   C1-FB323A_CSC_Rd1_14  /scratch/ns4964/lionnet/inputs/train3D/C1-FB32...   \n4    C1-FB323A_CSC_Rd1_5  /scratch/ns4964/lionnet/inputs/train3D/C1-FB32...   \n5   C1-FB323A_CSC_Rd1_15  /scratch/ns4964/lionnet/inputs/train3D/C1-FB32...   \n6   C1-FB323A_CSC_Rd1_18  /scratch/ns4964/lionnet/inputs/train3D/C1-FB32...   \n7   C1-FB323A_CSC_Rd1_10  /scratch/ns4964/lionnet/inputs/train3D/C1-FB32...   \n8   C1-FB323A_CSC_Rd1_16  /scratch/ns4964/lionnet/inputs/train3D/C1-FB32...   \n9   C1-FB323A_CSC_Rd1_21  /scratch/ns4964/lionnet/inputs/train3D/C1-FB32...   \n10   C1-FB323A_CSC_Rd1_2  /scratch/ns4964/lionnet/inputs/train3D/C1-FB32...   \n11  C1-FB323A_CSC_Rd1_23  /scratch/ns4964/lionnet/inputs/train3D/C1-FB32...   \n12  C1-FB323A_CSC_Rd1_20  /scratch/ns4964/lionnet/inputs/train3D/C1-FB32...   \n13   C1-FB323A_CSC_Rd1_8  /scratch/ns4964/lionnet/inputs/train3D/C1-FB32...   \n14   C1-FB323A_CSC_Rd1_9  /scratch/ns4964/lionnet/inputs/train3D/C1-FB32...   \n15  C1-FB323A_CSC_Rd1_12  /scratch/ns4964/lionnet/inputs/train3D/C1-FB32...   \n16   C1-FB323A_CSC_Rd1_6  /scratch/ns4964/lionnet/inputs/train3D/C1-FB32...   \n17  C1-FB323A_CSC_Rd1_22  /scratch/ns4964/lionnet/inputs/train3D/C1-FB32...   \n18  C1-FB323A_CSC_Rd1_13  /scratch/ns4964/lionnet/inputs/train3D/C1-FB32...   \n19  C1-FB323A_CSC_Rd1_17  /scratch/ns4964/lionnet/inputs/train3D/C1-FB32...   \n20   C1-FB323A_CSC_Rd1_7  /scratch/ns4964/lionnet/inputs/train3D/C1-FB32...   \n21  C1-FB323A_CSC_Rd1_11  /scratch/ns4964/lionnet/inputs/train3D/C1-FB32...   \n22   C1-FB323A_CSC_Rd1_3  /scratch/ns4964/lionnet/inputs/train3D/C1-FB32...   \n\n    added  method  \n0       0  manual  \n1       0  manual  \n2       0  manual  \n3       0  manual  \n4       0  manual  \n5       0  manual  \n6       0  manual  \n7       0  manual  \n8       0  manual  \n9       0  manual  \n10      0  manual  \n11      0  manual  \n12      0  manual  \n13      0  manual  \n14      0  manual  \n15      0  manual  \n16      0  manual  \n17      0  manual  \n18      0  manual  \n19      0  manual  \n20      0  manual  \n21      0  manual  \n22      0  manual  ",
      "text/html": "<div>\n<style scoped>\n    .dataframe tbody tr th:only-of-type {\n        vertical-align: middle;\n    }\n\n    .dataframe tbody tr th {\n        vertical-align: top;\n    }\n\n    .dataframe thead th {\n        text-align: right;\n    }\n</style>\n<table border=\"1\" class=\"dataframe\">\n  <thead>\n    <tr style=\"text-align: right;\">\n      <th></th>\n      <th>imgname</th>\n      <th>maskfile</th>\n      <th>added</th>\n      <th>method</th>\n    </tr>\n  </thead>\n  <tbody>\n    <tr>\n      <th>0</th>\n      <td>C1-FB323A_CSC_Rd1_4</td>\n      <td>/scratch/ns4964/lionnet/inputs/train3D/C1-FB32...</td>\n      <td>0</td>\n      <td>manual</td>\n    </tr>\n    <tr>\n      <th>1</th>\n      <td>C1-FB323A_CSC_Rd1_1</td>\n      <td>/scratch/ns4964/lionnet/inputs/train3D/C1-FB32...</td>\n      <td>0</td>\n      <td>manual</td>\n    </tr>\n    <tr>\n      <th>2</th>\n      <td>C1-FB323A_CSC_Rd1_19</td>\n      <td>/scratch/ns4964/lionnet/inputs/train3D/C1-FB32...</td>\n      <td>0</td>\n      <td>manual</td>\n    </tr>\n    <tr>\n      <th>3</th>\n      <td>C1-FB323A_CSC_Rd1_14</td>\n      <td>/scratch/ns4964/lionnet/inputs/train3D/C1-FB32...</td>\n      <td>0</td>\n      <td>manual</td>\n    </tr>\n    <tr>\n      <th>4</th>\n      <td>C1-FB323A_CSC_Rd1_5</td>\n      <td>/scratch/ns4964/lionnet/inputs/train3D/C1-FB32...</td>\n      <td>0</td>\n      <td>manual</td>\n    </tr>\n    <tr>\n      <th>5</th>\n      <td>C1-FB323A_CSC_Rd1_15</td>\n      <td>/scratch/ns4964/lionnet/inputs/train3D/C1-FB32...</td>\n      <td>0</td>\n      <td>manual</td>\n    </tr>\n    <tr>\n      <th>6</th>\n      <td>C1-FB323A_CSC_Rd1_18</td>\n      <td>/scratch/ns4964/lionnet/inputs/train3D/C1-FB32...</td>\n      <td>0</td>\n      <td>manual</td>\n    </tr>\n    <tr>\n      <th>7</th>\n      <td>C1-FB323A_CSC_Rd1_10</td>\n      <td>/scratch/ns4964/lionnet/inputs/train3D/C1-FB32...</td>\n      <td>0</td>\n      <td>manual</td>\n    </tr>\n    <tr>\n      <th>8</th>\n      <td>C1-FB323A_CSC_Rd1_16</td>\n      <td>/scratch/ns4964/lionnet/inputs/train3D/C1-FB32...</td>\n      <td>0</td>\n      <td>manual</td>\n    </tr>\n    <tr>\n      <th>9</th>\n      <td>C1-FB323A_CSC_Rd1_21</td>\n      <td>/scratch/ns4964/lionnet/inputs/train3D/C1-FB32...</td>\n      <td>0</td>\n      <td>manual</td>\n    </tr>\n    <tr>\n      <th>10</th>\n      <td>C1-FB323A_CSC_Rd1_2</td>\n      <td>/scratch/ns4964/lionnet/inputs/train3D/C1-FB32...</td>\n      <td>0</td>\n      <td>manual</td>\n    </tr>\n    <tr>\n      <th>11</th>\n      <td>C1-FB323A_CSC_Rd1_23</td>\n      <td>/scratch/ns4964/lionnet/inputs/train3D/C1-FB32...</td>\n      <td>0</td>\n      <td>manual</td>\n    </tr>\n    <tr>\n      <th>12</th>\n      <td>C1-FB323A_CSC_Rd1_20</td>\n      <td>/scratch/ns4964/lionnet/inputs/train3D/C1-FB32...</td>\n      <td>0</td>\n      <td>manual</td>\n    </tr>\n    <tr>\n      <th>13</th>\n      <td>C1-FB323A_CSC_Rd1_8</td>\n      <td>/scratch/ns4964/lionnet/inputs/train3D/C1-FB32...</td>\n      <td>0</td>\n      <td>manual</td>\n    </tr>\n    <tr>\n      <th>14</th>\n      <td>C1-FB323A_CSC_Rd1_9</td>\n      <td>/scratch/ns4964/lionnet/inputs/train3D/C1-FB32...</td>\n      <td>0</td>\n      <td>manual</td>\n    </tr>\n    <tr>\n      <th>15</th>\n      <td>C1-FB323A_CSC_Rd1_12</td>\n      <td>/scratch/ns4964/lionnet/inputs/train3D/C1-FB32...</td>\n      <td>0</td>\n      <td>manual</td>\n    </tr>\n    <tr>\n      <th>16</th>\n      <td>C1-FB323A_CSC_Rd1_6</td>\n      <td>/scratch/ns4964/lionnet/inputs/train3D/C1-FB32...</td>\n      <td>0</td>\n      <td>manual</td>\n    </tr>\n    <tr>\n      <th>17</th>\n      <td>C1-FB323A_CSC_Rd1_22</td>\n      <td>/scratch/ns4964/lionnet/inputs/train3D/C1-FB32...</td>\n      <td>0</td>\n      <td>manual</td>\n    </tr>\n    <tr>\n      <th>18</th>\n      <td>C1-FB323A_CSC_Rd1_13</td>\n      <td>/scratch/ns4964/lionnet/inputs/train3D/C1-FB32...</td>\n      <td>0</td>\n      <td>manual</td>\n    </tr>\n    <tr>\n      <th>19</th>\n      <td>C1-FB323A_CSC_Rd1_17</td>\n      <td>/scratch/ns4964/lionnet/inputs/train3D/C1-FB32...</td>\n      <td>0</td>\n      <td>manual</td>\n    </tr>\n    <tr>\n      <th>20</th>\n      <td>C1-FB323A_CSC_Rd1_7</td>\n      <td>/scratch/ns4964/lionnet/inputs/train3D/C1-FB32...</td>\n      <td>0</td>\n      <td>manual</td>\n    </tr>\n    <tr>\n      <th>21</th>\n      <td>C1-FB323A_CSC_Rd1_11</td>\n      <td>/scratch/ns4964/lionnet/inputs/train3D/C1-FB32...</td>\n      <td>0</td>\n      <td>manual</td>\n    </tr>\n    <tr>\n      <th>22</th>\n      <td>C1-FB323A_CSC_Rd1_3</td>\n      <td>/scratch/ns4964/lionnet/inputs/train3D/C1-FB32...</td>\n      <td>0</td>\n      <td>manual</td>\n    </tr>\n  </tbody>\n</table>\n</div>"
     },
     "execution_count": 161,
     "metadata": {},
     "output_type": "execute_result"
    }
   ],
   "source": [
    "for i in pathstoadd.index:\n",
    "    imgname = pathstoadd.iloc[i].imgname\n",
    "    maskpath = imgdf[imgdf.imgfolder == imgname].labelpath.to_list()[0]\n",
    "    pathstoadd.at[i, 'maskfile'] = maskpath\n",
    "pathstoadd"
   ],
   "metadata": {
    "collapsed": false,
    "pycharm": {
     "name": "#%%\n"
    }
   }
  },
  {
   "cell_type": "code",
   "execution_count": 162,
   "outputs": [
    {
     "data": {
      "text/plain": "                 imgname                                           maskfile  \\\n0    C1-FB323A_CSC_Rd1_1  /scratch/ns4964/lionnet/inputs/train3D/C1-FB32...   \n1    C1-FB323A_CSC_Rd1_1  /scratch/ns4964/lionnet/output/Mesmer/train3d/...   \n2    C1-FB323A_CSC_Rd1_1  /scratch/ns4964/lionnet/output/Mesmer/train3d/...   \n3    C1-FB323A_CSC_Rd1_1  /scratch/ns4964/lionnet/output/Mesmer/train3d/...   \n4    C1-FB323A_CSC_Rd1_1  /scratch/ns4964/lionnet/output/Mesmer/train3d/...   \n..                   ...                                                ...   \n110  C1-FB323A_CSC_Rd1_9  /scratch/ns4964/lionnet/inputs/train3D/C1-FB32...   \n111  C1-FB323A_CSC_Rd1_9  /scratch/ns4964/lionnet/output/Mesmer/train3d/...   \n112  C1-FB323A_CSC_Rd1_9  /scratch/ns4964/lionnet/output/Mesmer/train3d/...   \n113  C1-FB323A_CSC_Rd1_9  /scratch/ns4964/lionnet/output/Mesmer/train3d/...   \n114  C1-FB323A_CSC_Rd1_9  /scratch/ns4964/lionnet/output/Mesmer/train3d/...   \n\n    added  method  MSE  SSIM  \n0       0  manual    0     0  \n1       0  mesmer    0     0  \n2       1  mesmer    0     0  \n3       2  mesmer    0     0  \n4       3  mesmer    0     0  \n..    ...     ...  ...   ...  \n110     0  manual    0     0  \n111     0  mesmer    0     0  \n112     1  mesmer    0     0  \n113     2  mesmer    0     0  \n114     3  mesmer    0     0  \n\n[115 rows x 6 columns]",
      "text/html": "<div>\n<style scoped>\n    .dataframe tbody tr th:only-of-type {\n        vertical-align: middle;\n    }\n\n    .dataframe tbody tr th {\n        vertical-align: top;\n    }\n\n    .dataframe thead th {\n        text-align: right;\n    }\n</style>\n<table border=\"1\" class=\"dataframe\">\n  <thead>\n    <tr style=\"text-align: right;\">\n      <th></th>\n      <th>imgname</th>\n      <th>maskfile</th>\n      <th>added</th>\n      <th>method</th>\n      <th>MSE</th>\n      <th>SSIM</th>\n    </tr>\n  </thead>\n  <tbody>\n    <tr>\n      <th>0</th>\n      <td>C1-FB323A_CSC_Rd1_1</td>\n      <td>/scratch/ns4964/lionnet/inputs/train3D/C1-FB32...</td>\n      <td>0</td>\n      <td>manual</td>\n      <td>0</td>\n      <td>0</td>\n    </tr>\n    <tr>\n      <th>1</th>\n      <td>C1-FB323A_CSC_Rd1_1</td>\n      <td>/scratch/ns4964/lionnet/output/Mesmer/train3d/...</td>\n      <td>0</td>\n      <td>mesmer</td>\n      <td>0</td>\n      <td>0</td>\n    </tr>\n    <tr>\n      <th>2</th>\n      <td>C1-FB323A_CSC_Rd1_1</td>\n      <td>/scratch/ns4964/lionnet/output/Mesmer/train3d/...</td>\n      <td>1</td>\n      <td>mesmer</td>\n      <td>0</td>\n      <td>0</td>\n    </tr>\n    <tr>\n      <th>3</th>\n      <td>C1-FB323A_CSC_Rd1_1</td>\n      <td>/scratch/ns4964/lionnet/output/Mesmer/train3d/...</td>\n      <td>2</td>\n      <td>mesmer</td>\n      <td>0</td>\n      <td>0</td>\n    </tr>\n    <tr>\n      <th>4</th>\n      <td>C1-FB323A_CSC_Rd1_1</td>\n      <td>/scratch/ns4964/lionnet/output/Mesmer/train3d/...</td>\n      <td>3</td>\n      <td>mesmer</td>\n      <td>0</td>\n      <td>0</td>\n    </tr>\n    <tr>\n      <th>...</th>\n      <td>...</td>\n      <td>...</td>\n      <td>...</td>\n      <td>...</td>\n      <td>...</td>\n      <td>...</td>\n    </tr>\n    <tr>\n      <th>110</th>\n      <td>C1-FB323A_CSC_Rd1_9</td>\n      <td>/scratch/ns4964/lionnet/inputs/train3D/C1-FB32...</td>\n      <td>0</td>\n      <td>manual</td>\n      <td>0</td>\n      <td>0</td>\n    </tr>\n    <tr>\n      <th>111</th>\n      <td>C1-FB323A_CSC_Rd1_9</td>\n      <td>/scratch/ns4964/lionnet/output/Mesmer/train3d/...</td>\n      <td>0</td>\n      <td>mesmer</td>\n      <td>0</td>\n      <td>0</td>\n    </tr>\n    <tr>\n      <th>112</th>\n      <td>C1-FB323A_CSC_Rd1_9</td>\n      <td>/scratch/ns4964/lionnet/output/Mesmer/train3d/...</td>\n      <td>1</td>\n      <td>mesmer</td>\n      <td>0</td>\n      <td>0</td>\n    </tr>\n    <tr>\n      <th>113</th>\n      <td>C1-FB323A_CSC_Rd1_9</td>\n      <td>/scratch/ns4964/lionnet/output/Mesmer/train3d/...</td>\n      <td>2</td>\n      <td>mesmer</td>\n      <td>0</td>\n      <td>0</td>\n    </tr>\n    <tr>\n      <th>114</th>\n      <td>C1-FB323A_CSC_Rd1_9</td>\n      <td>/scratch/ns4964/lionnet/output/Mesmer/train3d/...</td>\n      <td>3</td>\n      <td>mesmer</td>\n      <td>0</td>\n      <td>0</td>\n    </tr>\n  </tbody>\n</table>\n<p>115 rows × 6 columns</p>\n</div>"
     },
     "execution_count": 162,
     "metadata": {},
     "output_type": "execute_result"
    }
   ],
   "source": [
    "fulldf = pd.concat([mesdf,pathstoadd])\n",
    "fulldf = fulldf.sort_values(by = ['imgname', 'added'])\n",
    "fulldf = fulldf.reset_index(drop = True)\n",
    "fulldf.insert(len(fulldf.columns),\"MSE\",0)\n",
    "fulldf.insert(len(fulldf.columns),\"SSIM\",0)\n",
    "fulldf"
   ],
   "metadata": {
    "collapsed": false,
    "pycharm": {
     "name": "#%%\n"
    }
   }
  },
  {
   "cell_type": "markdown",
   "source": [
    "## Run Comparison"
   ],
   "metadata": {
    "collapsed": false,
    "pycharm": {
     "name": "#%% md\n"
    }
   }
  },
  {
   "cell_type": "code",
   "execution_count": 163,
   "outputs": [
    {
     "data": {
      "text/plain": "                imgname                                           maskfile  \\\n0  C1-FB323A_CSC_Rd1_11  /scratch/ns4964/lionnet/inputs/train3D/C1-FB32...   \n1  C1-FB323A_CSC_Rd1_11  /scratch/ns4964/lionnet/output/Mesmer/train3d/...   \n2  C1-FB323A_CSC_Rd1_11  /scratch/ns4964/lionnet/output/Mesmer/train3d/...   \n3  C1-FB323A_CSC_Rd1_11  /scratch/ns4964/lionnet/output/Mesmer/train3d/...   \n4  C1-FB323A_CSC_Rd1_11  /scratch/ns4964/lionnet/output/Mesmer/train3d/...   \n\n  added  method  MSE  SSIM  \n0     0  manual    0     0  \n1     0  mesmer    0     0  \n2     1  mesmer    0     0  \n3     2  mesmer    0     0  \n4     3  mesmer    0     0  ",
      "text/html": "<div>\n<style scoped>\n    .dataframe tbody tr th:only-of-type {\n        vertical-align: middle;\n    }\n\n    .dataframe tbody tr th {\n        vertical-align: top;\n    }\n\n    .dataframe thead th {\n        text-align: right;\n    }\n</style>\n<table border=\"1\" class=\"dataframe\">\n  <thead>\n    <tr style=\"text-align: right;\">\n      <th></th>\n      <th>imgname</th>\n      <th>maskfile</th>\n      <th>added</th>\n      <th>method</th>\n      <th>MSE</th>\n      <th>SSIM</th>\n    </tr>\n  </thead>\n  <tbody>\n    <tr>\n      <th>0</th>\n      <td>C1-FB323A_CSC_Rd1_11</td>\n      <td>/scratch/ns4964/lionnet/inputs/train3D/C1-FB32...</td>\n      <td>0</td>\n      <td>manual</td>\n      <td>0</td>\n      <td>0</td>\n    </tr>\n    <tr>\n      <th>1</th>\n      <td>C1-FB323A_CSC_Rd1_11</td>\n      <td>/scratch/ns4964/lionnet/output/Mesmer/train3d/...</td>\n      <td>0</td>\n      <td>mesmer</td>\n      <td>0</td>\n      <td>0</td>\n    </tr>\n    <tr>\n      <th>2</th>\n      <td>C1-FB323A_CSC_Rd1_11</td>\n      <td>/scratch/ns4964/lionnet/output/Mesmer/train3d/...</td>\n      <td>1</td>\n      <td>mesmer</td>\n      <td>0</td>\n      <td>0</td>\n    </tr>\n    <tr>\n      <th>3</th>\n      <td>C1-FB323A_CSC_Rd1_11</td>\n      <td>/scratch/ns4964/lionnet/output/Mesmer/train3d/...</td>\n      <td>2</td>\n      <td>mesmer</td>\n      <td>0</td>\n      <td>0</td>\n    </tr>\n    <tr>\n      <th>4</th>\n      <td>C1-FB323A_CSC_Rd1_11</td>\n      <td>/scratch/ns4964/lionnet/output/Mesmer/train3d/...</td>\n      <td>3</td>\n      <td>mesmer</td>\n      <td>0</td>\n      <td>0</td>\n    </tr>\n  </tbody>\n</table>\n</div>"
     },
     "execution_count": 163,
     "metadata": {},
     "output_type": "execute_result"
    }
   ],
   "source": [
    "minidf = fulldf[fulldf.imgname=='C1-FB323A_CSC_Rd1_11'].copy()\n",
    "minidf=minidf.reset_index(drop=True)\n",
    "minidf"
   ],
   "metadata": {
    "collapsed": false,
    "pycharm": {
     "name": "#%%\n"
    }
   }
  },
  {
   "cell_type": "code",
   "execution_count": 188,
   "outputs": [
    {
     "name": "stderr",
     "output_type": "stream",
     "text": [
      "/state/partition1/job-21186823/ipykernel_3769037/3006014876.py:27: UserWarning: Inputs have mismatched dtype.  Setting data_range based on im1.dtype.\n",
      "  ssim = strucsim.append(skimage.metrics.structural_similarity(newstack[j],orig[j]))\n"
     ]
    },
    {
     "data": {
      "text/plain": "                 imgname                                           maskfile  \\\n0    C1-FB323A_CSC_Rd1_1  /scratch/ns4964/lionnet/inputs/train3D/C1-FB32...   \n1    C1-FB323A_CSC_Rd1_1  /scratch/ns4964/lionnet/output/Mesmer/train3d/...   \n2    C1-FB323A_CSC_Rd1_1  /scratch/ns4964/lionnet/output/Mesmer/train3d/...   \n3    C1-FB323A_CSC_Rd1_1  /scratch/ns4964/lionnet/output/Mesmer/train3d/...   \n4    C1-FB323A_CSC_Rd1_1  /scratch/ns4964/lionnet/output/Mesmer/train3d/...   \n..                   ...                                                ...   \n110  C1-FB323A_CSC_Rd1_9  /scratch/ns4964/lionnet/inputs/train3D/C1-FB32...   \n111  C1-FB323A_CSC_Rd1_9  /scratch/ns4964/lionnet/output/Mesmer/train3d/...   \n112  C1-FB323A_CSC_Rd1_9  /scratch/ns4964/lionnet/output/Mesmer/train3d/...   \n113  C1-FB323A_CSC_Rd1_9  /scratch/ns4964/lionnet/output/Mesmer/train3d/...   \n114  C1-FB323A_CSC_Rd1_9  /scratch/ns4964/lionnet/output/Mesmer/train3d/...   \n\n    added  method           MSE      SSIM  \n0       0  manual      0.000000  1.000000  \n1       0  mesmer  18761.649611  0.605784  \n2       1  mesmer  18755.115802  0.595744  \n3       2  mesmer  18755.115802  0.595744  \n4       3  mesmer  18755.115802  0.595744  \n..    ...     ...           ...       ...  \n110     0  manual      0.000000  1.000000  \n111     0  mesmer  16044.606443  0.605096  \n112     1  mesmer  16042.327565  0.586358  \n113     2  mesmer  16042.327565  0.586358  \n114     3  mesmer  16042.327565  0.586358  \n\n[115 rows x 6 columns]",
      "text/html": "<div>\n<style scoped>\n    .dataframe tbody tr th:only-of-type {\n        vertical-align: middle;\n    }\n\n    .dataframe tbody tr th {\n        vertical-align: top;\n    }\n\n    .dataframe thead th {\n        text-align: right;\n    }\n</style>\n<table border=\"1\" class=\"dataframe\">\n  <thead>\n    <tr style=\"text-align: right;\">\n      <th></th>\n      <th>imgname</th>\n      <th>maskfile</th>\n      <th>added</th>\n      <th>method</th>\n      <th>MSE</th>\n      <th>SSIM</th>\n    </tr>\n  </thead>\n  <tbody>\n    <tr>\n      <th>0</th>\n      <td>C1-FB323A_CSC_Rd1_1</td>\n      <td>/scratch/ns4964/lionnet/inputs/train3D/C1-FB32...</td>\n      <td>0</td>\n      <td>manual</td>\n      <td>0.000000</td>\n      <td>1.000000</td>\n    </tr>\n    <tr>\n      <th>1</th>\n      <td>C1-FB323A_CSC_Rd1_1</td>\n      <td>/scratch/ns4964/lionnet/output/Mesmer/train3d/...</td>\n      <td>0</td>\n      <td>mesmer</td>\n      <td>18761.649611</td>\n      <td>0.605784</td>\n    </tr>\n    <tr>\n      <th>2</th>\n      <td>C1-FB323A_CSC_Rd1_1</td>\n      <td>/scratch/ns4964/lionnet/output/Mesmer/train3d/...</td>\n      <td>1</td>\n      <td>mesmer</td>\n      <td>18755.115802</td>\n      <td>0.595744</td>\n    </tr>\n    <tr>\n      <th>3</th>\n      <td>C1-FB323A_CSC_Rd1_1</td>\n      <td>/scratch/ns4964/lionnet/output/Mesmer/train3d/...</td>\n      <td>2</td>\n      <td>mesmer</td>\n      <td>18755.115802</td>\n      <td>0.595744</td>\n    </tr>\n    <tr>\n      <th>4</th>\n      <td>C1-FB323A_CSC_Rd1_1</td>\n      <td>/scratch/ns4964/lionnet/output/Mesmer/train3d/...</td>\n      <td>3</td>\n      <td>mesmer</td>\n      <td>18755.115802</td>\n      <td>0.595744</td>\n    </tr>\n    <tr>\n      <th>...</th>\n      <td>...</td>\n      <td>...</td>\n      <td>...</td>\n      <td>...</td>\n      <td>...</td>\n      <td>...</td>\n    </tr>\n    <tr>\n      <th>110</th>\n      <td>C1-FB323A_CSC_Rd1_9</td>\n      <td>/scratch/ns4964/lionnet/inputs/train3D/C1-FB32...</td>\n      <td>0</td>\n      <td>manual</td>\n      <td>0.000000</td>\n      <td>1.000000</td>\n    </tr>\n    <tr>\n      <th>111</th>\n      <td>C1-FB323A_CSC_Rd1_9</td>\n      <td>/scratch/ns4964/lionnet/output/Mesmer/train3d/...</td>\n      <td>0</td>\n      <td>mesmer</td>\n      <td>16044.606443</td>\n      <td>0.605096</td>\n    </tr>\n    <tr>\n      <th>112</th>\n      <td>C1-FB323A_CSC_Rd1_9</td>\n      <td>/scratch/ns4964/lionnet/output/Mesmer/train3d/...</td>\n      <td>1</td>\n      <td>mesmer</td>\n      <td>16042.327565</td>\n      <td>0.586358</td>\n    </tr>\n    <tr>\n      <th>113</th>\n      <td>C1-FB323A_CSC_Rd1_9</td>\n      <td>/scratch/ns4964/lionnet/output/Mesmer/train3d/...</td>\n      <td>2</td>\n      <td>mesmer</td>\n      <td>16042.327565</td>\n      <td>0.586358</td>\n    </tr>\n    <tr>\n      <th>114</th>\n      <td>C1-FB323A_CSC_Rd1_9</td>\n      <td>/scratch/ns4964/lionnet/output/Mesmer/train3d/...</td>\n      <td>3</td>\n      <td>mesmer</td>\n      <td>16042.327565</td>\n      <td>0.586358</td>\n    </tr>\n  </tbody>\n</table>\n<p>115 rows × 6 columns</p>\n</div>"
     },
     "execution_count": 188,
     "metadata": {},
     "output_type": "execute_result"
    }
   ],
   "source": [
    "from skimage.metrics import structural_similarity as ssim\n",
    "from skimage.metrics import mean_squared_error\n",
    "\n",
    "df = fulldf\n",
    "\n",
    "for i in df.index:\n",
    "    # Bring in the mask of focus and the reference mask\n",
    "    imname = df.imgname.iloc[i]\n",
    "    added = int(df.added.iloc[i])\n",
    "    origind = df.index[(df['method'] == 'manual')&(df['imgname']==imname)].tolist()[0]\n",
    "    orig = io.imread(df.maskfile.iloc[origind],plugin='tifffile')\n",
    "    new = io.imread(df.maskfile.iloc[i],plugin='tifffile')\n",
    "    # pull out only the layers from the GT mask.\n",
    "    origpositions = []\n",
    "    for j in range(0, np.max(new.shape[0]), added+1):\n",
    "        origpositions.append(j)\n",
    "\n",
    "    newstack = np.empty((orig.shape))\n",
    "    newtifcounter = 0\n",
    "    for j in origpositions:\n",
    "        newstack[newtifcounter] = new[j]\n",
    "        newtifcounter+=1\n",
    "    mse = []\n",
    "    strucsim = []\n",
    "    for j in range(orig.shape[0]):\n",
    "        mse.append(mean_squared_error(newstack[j],orig[j]))\n",
    "        ssim = strucsim.append(skimage.metrics.structural_similarity(newstack[j],orig[j]))\n",
    "    df.at[i,'MSE'] = np.mean(mse)\n",
    "    df.at[i, 'SSIM'] = np.mean(strucsim)\n",
    "    # print(i, imname, origind, added, new.shape)\n",
    "    # print(origpositions)\n",
    "df"
   ],
   "metadata": {
    "collapsed": false,
    "pycharm": {
     "name": "#%%\n"
    }
   }
  },
  {
   "cell_type": "code",
   "execution_count": 189,
   "outputs": [
    {
     "data": {
      "text/plain": "                 imgname                                           maskfile  \\\n0    C1-FB323A_CSC_Rd1_1  /scratch/ns4964/lionnet/inputs/train3D/C1-FB32...   \n1    C1-FB323A_CSC_Rd1_1  /scratch/ns4964/lionnet/output/Mesmer/train3d/...   \n2    C1-FB323A_CSC_Rd1_1  /scratch/ns4964/lionnet/output/Mesmer/train3d/...   \n3    C1-FB323A_CSC_Rd1_1  /scratch/ns4964/lionnet/output/Mesmer/train3d/...   \n4    C1-FB323A_CSC_Rd1_1  /scratch/ns4964/lionnet/output/Mesmer/train3d/...   \n..                   ...                                                ...   \n110  C1-FB323A_CSC_Rd1_9  /scratch/ns4964/lionnet/inputs/train3D/C1-FB32...   \n111  C1-FB323A_CSC_Rd1_9  /scratch/ns4964/lionnet/output/Mesmer/train3d/...   \n112  C1-FB323A_CSC_Rd1_9  /scratch/ns4964/lionnet/output/Mesmer/train3d/...   \n113  C1-FB323A_CSC_Rd1_9  /scratch/ns4964/lionnet/output/Mesmer/train3d/...   \n114  C1-FB323A_CSC_Rd1_9  /scratch/ns4964/lionnet/output/Mesmer/train3d/...   \n\n    added  method           MSE      SSIM  \n0       0  manual      0.000000  1.000000  \n1       0  mesmer  18761.649611  0.605784  \n2       1  mesmer  18755.115802  0.595744  \n3       2  mesmer  18755.115802  0.595744  \n4       3  mesmer  18755.115802  0.595744  \n..    ...     ...           ...       ...  \n110     0  manual      0.000000  1.000000  \n111     0  mesmer  16044.606443  0.605096  \n112     1  mesmer  16042.327565  0.586358  \n113     2  mesmer  16042.327565  0.586358  \n114     3  mesmer  16042.327565  0.586358  \n\n[115 rows x 6 columns]",
      "text/html": "<div>\n<style scoped>\n    .dataframe tbody tr th:only-of-type {\n        vertical-align: middle;\n    }\n\n    .dataframe tbody tr th {\n        vertical-align: top;\n    }\n\n    .dataframe thead th {\n        text-align: right;\n    }\n</style>\n<table border=\"1\" class=\"dataframe\">\n  <thead>\n    <tr style=\"text-align: right;\">\n      <th></th>\n      <th>imgname</th>\n      <th>maskfile</th>\n      <th>added</th>\n      <th>method</th>\n      <th>MSE</th>\n      <th>SSIM</th>\n    </tr>\n  </thead>\n  <tbody>\n    <tr>\n      <th>0</th>\n      <td>C1-FB323A_CSC_Rd1_1</td>\n      <td>/scratch/ns4964/lionnet/inputs/train3D/C1-FB32...</td>\n      <td>0</td>\n      <td>manual</td>\n      <td>0.000000</td>\n      <td>1.000000</td>\n    </tr>\n    <tr>\n      <th>1</th>\n      <td>C1-FB323A_CSC_Rd1_1</td>\n      <td>/scratch/ns4964/lionnet/output/Mesmer/train3d/...</td>\n      <td>0</td>\n      <td>mesmer</td>\n      <td>18761.649611</td>\n      <td>0.605784</td>\n    </tr>\n    <tr>\n      <th>2</th>\n      <td>C1-FB323A_CSC_Rd1_1</td>\n      <td>/scratch/ns4964/lionnet/output/Mesmer/train3d/...</td>\n      <td>1</td>\n      <td>mesmer</td>\n      <td>18755.115802</td>\n      <td>0.595744</td>\n    </tr>\n    <tr>\n      <th>3</th>\n      <td>C1-FB323A_CSC_Rd1_1</td>\n      <td>/scratch/ns4964/lionnet/output/Mesmer/train3d/...</td>\n      <td>2</td>\n      <td>mesmer</td>\n      <td>18755.115802</td>\n      <td>0.595744</td>\n    </tr>\n    <tr>\n      <th>4</th>\n      <td>C1-FB323A_CSC_Rd1_1</td>\n      <td>/scratch/ns4964/lionnet/output/Mesmer/train3d/...</td>\n      <td>3</td>\n      <td>mesmer</td>\n      <td>18755.115802</td>\n      <td>0.595744</td>\n    </tr>\n    <tr>\n      <th>...</th>\n      <td>...</td>\n      <td>...</td>\n      <td>...</td>\n      <td>...</td>\n      <td>...</td>\n      <td>...</td>\n    </tr>\n    <tr>\n      <th>110</th>\n      <td>C1-FB323A_CSC_Rd1_9</td>\n      <td>/scratch/ns4964/lionnet/inputs/train3D/C1-FB32...</td>\n      <td>0</td>\n      <td>manual</td>\n      <td>0.000000</td>\n      <td>1.000000</td>\n    </tr>\n    <tr>\n      <th>111</th>\n      <td>C1-FB323A_CSC_Rd1_9</td>\n      <td>/scratch/ns4964/lionnet/output/Mesmer/train3d/...</td>\n      <td>0</td>\n      <td>mesmer</td>\n      <td>16044.606443</td>\n      <td>0.605096</td>\n    </tr>\n    <tr>\n      <th>112</th>\n      <td>C1-FB323A_CSC_Rd1_9</td>\n      <td>/scratch/ns4964/lionnet/output/Mesmer/train3d/...</td>\n      <td>1</td>\n      <td>mesmer</td>\n      <td>16042.327565</td>\n      <td>0.586358</td>\n    </tr>\n    <tr>\n      <th>113</th>\n      <td>C1-FB323A_CSC_Rd1_9</td>\n      <td>/scratch/ns4964/lionnet/output/Mesmer/train3d/...</td>\n      <td>2</td>\n      <td>mesmer</td>\n      <td>16042.327565</td>\n      <td>0.586358</td>\n    </tr>\n    <tr>\n      <th>114</th>\n      <td>C1-FB323A_CSC_Rd1_9</td>\n      <td>/scratch/ns4964/lionnet/output/Mesmer/train3d/...</td>\n      <td>3</td>\n      <td>mesmer</td>\n      <td>16042.327565</td>\n      <td>0.586358</td>\n    </tr>\n  </tbody>\n</table>\n<p>115 rows × 6 columns</p>\n</div>"
     },
     "execution_count": 189,
     "metadata": {},
     "output_type": "execute_result"
    }
   ],
   "source": [
    "fulldf"
   ],
   "metadata": {
    "collapsed": false,
    "pycharm": {
     "name": "#%%\n"
    }
   }
  },
  {
   "cell_type": "code",
   "execution_count": 178,
   "outputs": [
    {
     "name": "stdout",
     "output_type": "stream",
     "text": [
      "0\n",
      "(7, 1024, 1024) \n",
      " Showing Z-stack 0 of 6\n",
      "(7, 1024, 1024) \n",
      " Showing Z-stack 0 of 6\n"
     ]
    },
    {
     "data": {
      "text/plain": "<matplotlib.image.AxesImage at 0x14c516acb190>"
     },
     "execution_count": 178,
     "metadata": {},
     "output_type": "execute_result"
    },
    {
     "data": {
      "text/plain": "<Figure size 432x288 with 2 Axes>",
      "image/png": "[encoded data removed]"
     },
     "metadata": {},
     "output_type": "display_data"
    }
   ],
   "source": [
    "print(added)\n",
    "plt.subplot(1,2,1)\n",
    "showtif(newstack)\n",
    "plt.subplot(1,2,2)\n",
    "showtif(orig)"
   ],
   "metadata": {
    "collapsed": false,
    "pycharm": {
     "name": "#%%\n"
    }
   }
  }
 ],
 "metadata": {
  "kernelspec": {
   "display_name": "Python 3",
   "language": "python",
   "name": "python3"
  },
  "language_info": {
   "codemirror_mode": {
    "name": "ipython",
    "version": 2
   },
   "file_extension": ".py",
   "mimetype": "text/x-python",
   "name": "python",
   "nbconvert_exporter": "python",
   "pygments_lexer": "ipython2",
   "version": "2.7.6"
  }
 },
 "nbformat": 4,
 "nbformat_minor": 0
}